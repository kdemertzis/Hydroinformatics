{
  "nbformat": 4,
  "nbformat_minor": 0,
  "metadata": {
    "colab": {
      "name": "534_geoglows_homework.ipynb",
      "private_outputs": true,
      "provenance": [],
      "collapsed_sections": [
        "zyHUbph1oc8K",
        "3J69EdCx-Pzs",
        "szqfIUScEcFn",
        "nDrWjXJoFJng",
        "nMc01hqmmLTu",
        "nQNNmWpZmok6"
      ],
      "toc_visible": true,
      "include_colab_link": true
    },
    "kernelspec": {
      "name": "python3",
      "display_name": "Python 3"
    },
    "language_info": {
      "name": "python"
    }
  },
  "cells": [
    {
      "cell_type": "markdown",
      "metadata": {
        "id": "view-in-github",
        "colab_type": "text"
      },
      "source": [
        "<a href=\"https://colab.research.google.com/github/kdemertzis/Hydroinformatics/blob/main/06_geoglows_work.ipynb\" target=\"_parent\"><img src=\"https://colab.research.google.com/assets/colab-badge.svg\" alt=\"Open In Colab\"/></a>"
      ]
    },
    {
      "cell_type": "markdown",
      "metadata": {
        "id": "WQhP2Tz8-b9n"
      },
      "source": [
        "# Geoglows work\n",
        "\n",
        "This is an exercise in simple python skills to get streamflow information and compute some derivative information. Each step will include links to examples or documentation and will contain some pseudo code that you can use to guide you on your solution. You may work together and refer to any internet resources that help solve the problem. This homework assignment covers the following.\n",
        "\n",
        "1. Figure out the reach id without needing the graphical interface\n",
        "1. Write your own code to retrieve forecasted and historical streamflow from the geoglows data service\n",
        "1. Compare your solution to the geoglows package results\n",
        "1. Generate some plots of the streamflow (plotly or matplotlib)\n",
        "1. Make plots of streamflow using the geoglows package\n",
        "1. Use your python skills to compute some derivative information based on the retrieved discharge information.\n",
        "\n",
        "Write code and add `Text` cells with written responses when necessary.\n",
        "\n",
        "Deliverables:\n",
        "1. A pdf printout of the notebook showing all the code and text cells and the outputs of the code cells (e.g. the graphs and any print statements you use). The pdf ensures i can see what you had when you turned it in lest there be problems when i run it. (file -> print in the google colab page).\n",
        "1. A link to a github gist/google colab notebook copy of this file with your solution code which i can execute. Put this in the comments section of the learningsuite submission or make it a clickable link somewhere easy to find in the pdf.\n"
      ]
    },
    {
      "cell_type": "code",
      "metadata": {
        "id": "NBzCHSwa94TU"
      },
      "source": [
        "!pip install geoglows -q"
      ],
      "execution_count": null,
      "outputs": []
    },
    {
      "cell_type": "code",
      "metadata": {
        "id": "Y--6RveoB8vz"
      },
      "source": [
        "import geoglows\n",
        "import pandas as pd\n",
        "import requests\n",
        "import matplotlib\n",
        "import plotly.graph_objects as go\n",
        "from io import StringIO\n",
        "import numpy as np\n",
        "import scipy\n",
        "from datetime import *\n",
        "from datetime import datetime\n",
        "import datetime as dt"
      ],
      "execution_count": null,
      "outputs": []
    },
    {
      "cell_type": "markdown",
      "metadata": {
        "id": "zyHUbph1oc8K"
      },
      "source": [
        "## 1. Find a reach_id\n",
        "Being required to use the graphical interface to figure out the stream number can be a pain and it gets in the way of having scripts which retrieve and process information for you. Thankfully, i've developed a way around this for you.\n",
        "\n",
        "1. use the graphical interface to find a stream id, note the lat/lon where you clicked\n",
        "2. use the geolgows python package to determine the id for that lat/lon\n",
        "3. do they match? Can you think of reasons why or why not?\n",
        "\n",
        "You may find these links helpful\n",
        "- geoglows package documentation for getting streamflow: https://geoglows.readthedocs.io/en/latest/API%20Documentation/streamflow.html "
      ]
    },
    {
      "cell_type": "markdown",
      "metadata": {
        "id": "o_x5xoz1D8J2"
      },
      "source": [
        "Reach_ID is 922108 | \n",
        "lat: 30.9969,\n",
        "lon: -102.1417 | \n",
        "Using geoglows package indicates the reach is the same"
      ]
    },
    {
      "cell_type": "code",
      "metadata": {
        "id": "E1zVvjWupIOx"
      },
      "source": [
        "geoglows.streamflow.latlon_to_reach(30.9969, -102.1417)"
      ],
      "execution_count": null,
      "outputs": []
    },
    {
      "cell_type": "markdown",
      "metadata": {
        "id": "3J69EdCx-Pzs"
      },
      "source": [
        "## 2. Write code to get data\n",
        "Write your own code to retrieve the historical simulation and current forecast (ForecastStats). Use the graphical interface to the geoglows model to find the ID of a segment of the Mississipi rive near the outlet to the Gulf of Mexico.\n",
        "\n",
        "You may find these links helpful\n",
        "- Documentation for the geoglows rest api: https://geoglows.ecmwf.int/documentation\n",
        "- The source code for the equivalent functions in the geoglows python package: https://github.com/BYU-Hydroinformatics/geoglows/blob/master/geoglows/streamflow.py \n"
      ]
    },
    {
      "cell_type": "code",
      "metadata": {
        "id": "CN2XPgR5-Pf2"
      },
      "source": [
        "# Enter your reach_id here\n",
        "reach_id = 13082502"
      ],
      "execution_count": null,
      "outputs": []
    },
    {
      "cell_type": "code",
      "metadata": {
        "id": "dQfTml9W-Ebi"
      },
      "source": [
        "# use the reach id and REST api documentation to build a url to query the geoglows api\n",
        "restapi_base = 'https://geoglows.ecmwf.int/api/'\n",
        "url_for_forecast =  restapi_base + 'ForecastStats/?reach_id=' + str(reach_id)\n",
        "url_for_historical =  restapi_base + 'HistoricSimulation/?reach_id=' + str(reach_id)"
      ],
      "execution_count": null,
      "outputs": []
    },
    {
      "cell_type": "code",
      "metadata": {
        "id": "FbfK9Av0Gsdg"
      },
      "source": [
        "url_for_forecast"
      ],
      "execution_count": null,
      "outputs": []
    },
    {
      "cell_type": "code",
      "metadata": {
        "id": "z-yiRWxmB35j"
      },
      "source": [
        "# use requests or some other method to retrieve the csv output\n",
        "# call your resulting requests object forecast_response and historical_response\n",
        "# hint: what function did you use in Dr Ames' notebook to download national water model files?\n",
        "forecast_response = requests.get(url_for_forecast)\n",
        "historical_response = requests.get(url_for_historical)"
      ],
      "execution_count": null,
      "outputs": []
    },
    {
      "cell_type": "code",
      "metadata": {
        "id": "a4Mk_b4pDVsj"
      },
      "source": [
        "# what you get back from requests is a requests response object.\n",
        "# it contains some useful information about your request for information from \n",
        "# the rest api. run this cell to check it out\n",
        "forecast_response"
      ],
      "execution_count": null,
      "outputs": []
    },
    {
      "cell_type": "code",
      "metadata": {
        "id": "HM-gJZK7Dp0_"
      },
      "source": [
        "# What we got back from the api is CSV data, but as a long text string. In order to read that into a dataframe in pandas, you will need this code.\n",
        "forecast_dataframe = pd.read_csv(StringIO(forecast_response.text), index_col=0)\n",
        "historical_dataframe = pd.read_csv(StringIO(historical_response.text), index_col=0)"
      ],
      "execution_count": null,
      "outputs": []
    },
    {
      "cell_type": "markdown",
      "metadata": {
        "id": "szqfIUScEcFn"
      },
      "source": [
        "## 3. Compare to the geoglows package\n",
        "\n",
        "Use the following cells (add more if necessary) to retrive the same information from the geoglows python packge. It should take 1 command each for the forecast and historical data. After you've finished, add a cell at the bottom that prints out the dataframes you retrieved using geoglows and using your own code. \n",
        "\n",
        "1. Store the results you get from the geoglows package in variables titled geoglows_forecast and geoglows_historical\n",
        "1. Is the information the same as what you coded by hand?\n",
        "\n",
        "You may find these links helpful\n",
        "- geoglows package documentation for getting streamflow: https://geoglows.readthedocs.io/en/latest/API%20Documentation/streamflow.html "
      ]
    },
    {
      "cell_type": "code",
      "metadata": {
        "id": "TQPdZAx2EbfA"
      },
      "source": [
        "forecast_stats = geoglows.streamflow.forecast_stats(reach_id=reach_id,return_format='csv',endpoint=restapi_base)\n",
        "forecast_stats"
      ],
      "execution_count": null,
      "outputs": []
    },
    {
      "cell_type": "code",
      "metadata": {
        "id": "ddD1TLRKEjAF"
      },
      "source": [
        "historic_simulation = geoglows.streamflow.historic_simulation(reach_id=reach_id, return_format='csv', endpoint=restapi_base)\n",
        "historic_simulation"
      ],
      "execution_count": null,
      "outputs": []
    },
    {
      "cell_type": "markdown",
      "metadata": {
        "id": "nDrWjXJoFJng"
      },
      "source": [
        "## 4. Generate graphs\n",
        "Use the following cells (add more if necessary) to plot the historical streamflow data you retrieved. You may use plotly, matplotlib, or any other graphing engine you prefer. My personal preference is plotly (and thats what i can help you with if you're stuck).\n",
        "\n",
        "You may find these links helpful\n",
        "- https://plotly.com/python/line-and-scatter/ \n",
        "- https://plotly.com/python/reference/layout/ \n",
        "- https://www.tutorialspoint.com/plotly/plotly_with_pandas_and_cufflinks.htm\n",
        "- https://www.google.com/search?q=plot+pandas+dataframe \n"
      ]
    },
    {
      "cell_type": "code",
      "metadata": {
        "id": "qkXbd4l1ll1B"
      },
      "source": [
        "# you might want to use this call to experiment with selecting parts of a dataframe\n",
        "historical_dataframe['streamflow_m^3/s'].values"
      ],
      "execution_count": null,
      "outputs": []
    },
    {
      "cell_type": "code",
      "metadata": {
        "id": "isOIJrKvjNSP"
      },
      "source": [
        "# Guide to making your own plotly plot\n",
        "# each line on the graph is a python object and you combine each of those into a Figure object\n",
        "# The first cell of this notebook has already imported plotly with: import plotly.graph_objects as go\n",
        "# you can build what you need with go.Scatter and go.Figure\n",
        "# here is the pseudo code which you can edit:\n",
        "\n",
        "# build a scatter line of your dataset, the x values are time and the y are streamflow\n",
        "# You need to figure out how to select one of the columns in your dataframe\n",
        "# bonus: figure out how to change the color or style of the line\n",
        "hist_flow_scatter = go.Scatter(x=historical_dataframe.index, y=historical_dataframe['streamflow_m^3/s'].values, line_color=\"#00ff00\", fill='tozeroy', name='Historical Simulation')\n",
        "\n",
        "# bonus: find a way to alter the layout of your plot using the layout option\n",
        "# if you skip this step, this line should say `layout = {}`\n",
        "layout = go.Layout(title=\"Historical Simulation Data - '1979-2020'\", xaxis_title='Time (year)', yaxis_title='Streamflow (m^3/s)', showlegend=True)\n",
        "\n",
        "# Add this scatter set to a plotly figure\n",
        "hist_flow_figure = go.Figure(data = hist_flow_scatter, layout=layout)"
      ],
      "execution_count": null,
      "outputs": []
    },
    {
      "cell_type": "code",
      "metadata": {
        "id": "DgN3uQajllD8"
      },
      "source": [
        "# display the resulting figure\n",
        "hist_flow_figure.show()"
      ],
      "execution_count": null,
      "outputs": []
    },
    {
      "cell_type": "markdown",
      "metadata": {
        "id": "nMc01hqmmLTu"
      },
      "source": [
        "## 5. Compare to the geoglows package\n",
        "\n",
        "1. Use the functions in the geoglows python package to generate plots.\n",
        "1. Are the data being plotted the same (ignore styles and labels)? If they are different, why?\n",
        "\n",
        "You may find these links helpful\n",
        "- geoglows package documentation for generating plots: https://geoglows.readthedocs.io/en/latest/API%20Documentation/plots.html"
      ]
    },
    {
      "cell_type": "code",
      "metadata": {
        "id": "j-EYlGXlmn44"
      },
      "source": [
        "geoglows.plots.forecast_stats(stats=forecast_stats)"
      ],
      "execution_count": null,
      "outputs": []
    },
    {
      "cell_type": "code",
      "metadata": {
        "id": "QAJCKmZgmn7R"
      },
      "source": [
        "geoglows.plots.historic_simulation(hist=historic_simulation)"
      ],
      "execution_count": null,
      "outputs": []
    },
    {
      "cell_type": "markdown",
      "metadata": {
        "id": "nQNNmWpZmok6"
      },
      "source": [
        "## 6. Compute something new\n",
        "Use your python skills to do something new with the streamflow information you retrieved. You only need to do 1 additional task. Explain what you want to compute/why it would be useful info, compute it, then show the result. Here are some examples of things you might want to try:\n",
        "- Figure out how to integrate the hydrograph to get the volume going in to a reservoir\n",
        "- Compute the average or median of the forecast ensembles and compare against the ForecastStats data\n",
        "- Figure out how to make the plots in matplotlib or another graphing engine\n",
        "- Figure out how to style the plotly graphs to match the graphs made by the geoglows package\n",
        "- Make a plot with the forecasted flow (ensembles or stats) and the ForecastRecords on the same plot\n",
        "- Compute the flow anomoly - (difference between the average forecasted flow and the daily average flow)"
      ]
    },
    {
      "cell_type": "code",
      "metadata": {
        "id": "MPA3xJM9oEeV"
      },
      "source": [
        "# Create the dataframe for the ForecastsEnsemble\n",
        "url_for_Ensembles = restapi_base + 'ForecastEnsembles/?reach_id=' + str(reach_id)\n",
        "Ensembles_response = requests.get(url_for_Ensembles)\n",
        "Ensembles_dataframe = pd.read_csv(StringIO(Ensembles_response.text), index_col=0)\n",
        "# Create a new column that calculates the median value of each ensemble\n",
        "# This can be done for the mean but upon inspection, the mean for the Ensembles is the same as the mean for the Stats\n",
        "Ensembles_dataframe['median'] = Ensembles_dataframe.median(axis=1)"
      ],
      "execution_count": null,
      "outputs": []
    },
    {
      "cell_type": "code",
      "metadata": {
        "id": "khf-q7FXhvot"
      },
      "source": [
        "Ensembles_dataframe"
      ],
      "execution_count": null,
      "outputs": []
    },
    {
      "cell_type": "code",
      "metadata": {
        "id": "NZvJh5AZhuRe"
      },
      "source": [
        "# Plot the Ensembles Scatterplot against the Stats Scatterplot\n",
        "Ens_flow_scatter = go.Scatter(x=Ensembles_dataframe.index, y=Ensembles_dataframe['median'].values, name='Ensemble Median')\n",
        "\n",
        "stat_flow_scatter = go.Scatter(x=forecast_dataframe.index, y=forecast_dataframe['flow_avg_m^3/s'].values, name='Stats Average')\n",
        "\n",
        "layout = go.Layout(title=\"ForecastStats Average vs ForecastsEnsemble Median\", xaxis_title='Time (year)', yaxis_title='Streamflow (m^3/s)', showlegend=True)\n",
        "\n",
        "fig = go.Figure(layout=layout)\n",
        "\n",
        "fig.add_trace(Ens_flow_scatter)\n",
        "fig.add_trace(stat_flow_scatter)"
      ],
      "execution_count": null,
      "outputs": []
    },
    {
      "cell_type": "markdown",
      "metadata": {
        "id": "WyppaBs_CYiU"
      },
      "source": [
        "I decided to find out the volumes of the Forecast Stats and Ensemble hydrographs. Maybe there is an easier way to do this but I re-added the index column back to the DataFrame columns, converted it to UTC then to cumulaitve seconds. From there I used the SciPy integration tool to find the total volumes."
      ]
    },
    {
      "cell_type": "code",
      "metadata": {
        "id": "iGNSmhUtguDQ"
      },
      "source": [
        "# copy forecast_dataframe to a new df\n",
        "fcdf = forecast_dataframe[['flow_avg_m^3/s']].copy()\n",
        "# Remove the null values\n",
        "fcdf = fcdf.dropna()\n",
        "# reset the index\n",
        "fcdf.reset_index(inplace=True)\n",
        "# convert datetime to UTC and then to seconds\n",
        "fcdf['datetime'] = pd.to_datetime(fcdf['datetime'], utc=True)\n",
        "fcdf['Time (sec)'] = fcdf['datetime'].dt.hour * 3600 + \\\n",
        "                     fcdf['datetime'].dt.minute * 60 + \\\n",
        "                     fcdf['datetime'].dt.second\n",
        "fcdf"
      ],
      "execution_count": null,
      "outputs": []
    },
    {
      "cell_type": "code",
      "metadata": {
        "id": "6NJo2Vurx_xT"
      },
      "source": [
        "# repeat the same steps for Ensembles_dataframe\n",
        "endf = Ensembles_dataframe[['median']].copy()\n",
        "endf = endf.dropna()\n",
        "endf.reset_index(inplace=True)\n",
        "endf['datetime'] = pd.to_datetime(endf['datetime'], utc=True)\n",
        "endf['Time (sec)'] = endf['datetime'].dt.hour * 3600 + \\\n",
        "                     endf['datetime'].dt.minute * 60 + \\\n",
        "                     endf['datetime'].dt.second\n",
        "endf"
      ],
      "execution_count": null,
      "outputs": []
    },
    {
      "cell_type": "code",
      "metadata": {
        "id": "rVhGaLRmhCQu"
      },
      "source": [
        "# Calculate the total volumes\n",
        "fcdf_volume = abs(scipy.integrate.trapz(y=fcdf['flow_avg_m^3/s'].values, x=fcdf['Time (sec)'].values))\n",
        "endf_volume = abs(scipy.integrate.trapz(y=endf['median'].values, x=endf['Time (sec)'].values))\n",
        "print(\"Stats: \" + str(fcdf_volume) + ' m^3')\n",
        "print(\"Ensemble: \" + str(endf_volume) + ' m^3')"
      ],
      "execution_count": null,
      "outputs": []
    }
  ]
}