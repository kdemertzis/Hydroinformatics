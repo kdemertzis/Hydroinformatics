{
  "nbformat": 4,
  "nbformat_minor": 5,
  "metadata": {
    "kernelspec": {
      "display_name": "Python 3",
      "language": "python",
      "name": "python3"
    },
    "language_info": {
      "codemirror_mode": {
        "name": "ipython",
        "version": 3
      },
      "file_extension": ".py",
      "mimetype": "text/x-python",
      "name": "python",
      "nbconvert_exporter": "python",
      "pygments_lexer": "ipython3",
      "version": "3.7.10"
    },
    "colab": {
      "name": "Evapuration Prediction v2.ipynb",
      "provenance": [],
      "include_colab_link": true
    }
  },
  "cells": [
    {
      "cell_type": "markdown",
      "metadata": {
        "id": "view-in-github",
        "colab_type": "text"
      },
      "source": [
        "<a href=\"https://colab.research.google.com/github/kdemertzis/Hydroinformatics/blob/main/05_Evapuration_Prediction.ipynb\" target=\"_parent\"><img src=\"https://colab.research.google.com/assets/colab-badge.svg\" alt=\"Open In Colab\"/></a>"
      ]
    },
    {
      "cell_type": "code",
      "metadata": {
        "id": "ab97a88d"
      },
      "source": [
        "import numpy as np\n",
        "import pandas as pd\n",
        "import matplotlib.pyplot as plt\n",
        "from matplotlib import colors \n",
        "from matplotlib.ticker import PercentFormatter \n",
        "import seaborn as sns\n",
        "\n",
        "from sklearn.model_selection import train_test_split\n",
        "from sklearn import preprocessing \n",
        "from sklearn.preprocessing import MinMaxScaler\n",
        "from sklearn.metrics import classification_report, confusion_matrix\n",
        "\n",
        "from tensorflow.keras.models import Sequential\n",
        "from tensorflow.keras.layers import Dense, Dropout\n",
        "from tensorflow.keras.callbacks import EarlyStopping\n",
        "from tensorflow.keras.utils import to_categorical\n",
        "from tensorflow.keras.regularizers import l1\n",
        "from tensorflow import keras\n",
        "from tensorflow.keras.models import Sequential\n",
        "from tensorflow.keras.layers import LSTM,Dense ,Dropout\n",
        "from tensorflow.keras import layers\n",
        "\n",
        "import datetime\n",
        "import math"
      ],
      "id": "ab97a88d",
      "execution_count": 4,
      "outputs": []
    },
    {
      "cell_type": "code",
      "metadata": {
        "id": "9bc8c7b1"
      },
      "source": [
        "df = pd.read_excel('https://github.com/kdemertzis/Hydroinformatics/blob/main/data/MaruteruOriginalDatainCM.xlsx?raw=true')"
      ],
      "id": "9bc8c7b1",
      "execution_count": 5,
      "outputs": []
    },
    {
      "cell_type": "code",
      "metadata": {
        "id": "4cefa96a",
        "outputId": "622f8220-a369-4d82-cfbb-b29f40006b9a",
        "colab": {
          "base_uri": "https://localhost:8080/",
          "height": 206
        }
      },
      "source": [
        "df.head()"
      ],
      "id": "4cefa96a",
      "execution_count": 6,
      "outputs": [
        {
          "output_type": "execute_result",
          "data": {
            "text/html": [
              "<div>\n",
              "<style scoped>\n",
              "    .dataframe tbody tr th:only-of-type {\n",
              "        vertical-align: middle;\n",
              "    }\n",
              "\n",
              "    .dataframe tbody tr th {\n",
              "        vertical-align: top;\n",
              "    }\n",
              "\n",
              "    .dataframe thead th {\n",
              "        text-align: right;\n",
              "    }\n",
              "</style>\n",
              "<table border=\"1\" class=\"dataframe\">\n",
              "  <thead>\n",
              "    <tr style=\"text-align: right;\">\n",
              "      <th></th>\n",
              "      <th>Year</th>\n",
              "      <th>SMW</th>\n",
              "      <th>MaxT</th>\n",
              "      <th>MinT</th>\n",
              "      <th>RH1</th>\n",
              "      <th>RH2</th>\n",
              "      <th>RF</th>\n",
              "      <th>WS</th>\n",
              "      <th>SSH</th>\n",
              "      <th>EVPcm</th>\n",
              "    </tr>\n",
              "  </thead>\n",
              "  <tbody>\n",
              "    <tr>\n",
              "      <th>0</th>\n",
              "      <td>1994</td>\n",
              "      <td>1</td>\n",
              "      <td>27.2</td>\n",
              "      <td>18.6</td>\n",
              "      <td>90.0</td>\n",
              "      <td>69.0</td>\n",
              "      <td>1.5</td>\n",
              "      <td>2.6</td>\n",
              "      <td>6.8</td>\n",
              "      <td>1.91</td>\n",
              "    </tr>\n",
              "    <tr>\n",
              "      <th>1</th>\n",
              "      <td>1994</td>\n",
              "      <td>2</td>\n",
              "      <td>27.3</td>\n",
              "      <td>19.1</td>\n",
              "      <td>91.0</td>\n",
              "      <td>69.0</td>\n",
              "      <td>0.2</td>\n",
              "      <td>2.6</td>\n",
              "      <td>6.4</td>\n",
              "      <td>1.99</td>\n",
              "    </tr>\n",
              "    <tr>\n",
              "      <th>2</th>\n",
              "      <td>1994</td>\n",
              "      <td>3</td>\n",
              "      <td>27.9</td>\n",
              "      <td>19.3</td>\n",
              "      <td>92.0</td>\n",
              "      <td>68.0</td>\n",
              "      <td>0.1</td>\n",
              "      <td>1.9</td>\n",
              "      <td>7.2</td>\n",
              "      <td>1.84</td>\n",
              "    </tr>\n",
              "    <tr>\n",
              "      <th>3</th>\n",
              "      <td>1994</td>\n",
              "      <td>4</td>\n",
              "      <td>28.0</td>\n",
              "      <td>19.3</td>\n",
              "      <td>92.0</td>\n",
              "      <td>70.0</td>\n",
              "      <td>0.0</td>\n",
              "      <td>2.0</td>\n",
              "      <td>6.7</td>\n",
              "      <td>1.71</td>\n",
              "    </tr>\n",
              "    <tr>\n",
              "      <th>4</th>\n",
              "      <td>1994</td>\n",
              "      <td>5</td>\n",
              "      <td>28.7</td>\n",
              "      <td>19.3</td>\n",
              "      <td>93.0</td>\n",
              "      <td>68.0</td>\n",
              "      <td>0.9</td>\n",
              "      <td>1.8</td>\n",
              "      <td>7.2</td>\n",
              "      <td>2.00</td>\n",
              "    </tr>\n",
              "  </tbody>\n",
              "</table>\n",
              "</div>"
            ],
            "text/plain": [
              "   Year  SMW  MaxT  MinT   RH1   RH2   RF   WS  SSH  EVPcm\n",
              "0  1994    1  27.2  18.6  90.0  69.0  1.5  2.6  6.8   1.91\n",
              "1  1994    2  27.3  19.1  91.0  69.0  0.2  2.6  6.4   1.99\n",
              "2  1994    3  27.9  19.3  92.0  68.0  0.1  1.9  7.2   1.84\n",
              "3  1994    4  28.0  19.3  92.0  70.0  0.0  2.0  6.7   1.71\n",
              "4  1994    5  28.7  19.3  93.0  68.0  0.9  1.8  7.2   2.00"
            ]
          },
          "metadata": {},
          "execution_count": 6
        }
      ]
    },
    {
      "cell_type": "code",
      "metadata": {
        "id": "07bc2394",
        "outputId": "9527046d-e75c-46a2-e834-03e0208542cb",
        "colab": {
          "base_uri": "https://localhost:8080/",
          "height": 206
        }
      },
      "source": [
        "df.head()"
      ],
      "id": "07bc2394",
      "execution_count": 7,
      "outputs": [
        {
          "output_type": "execute_result",
          "data": {
            "text/html": [
              "<div>\n",
              "<style scoped>\n",
              "    .dataframe tbody tr th:only-of-type {\n",
              "        vertical-align: middle;\n",
              "    }\n",
              "\n",
              "    .dataframe tbody tr th {\n",
              "        vertical-align: top;\n",
              "    }\n",
              "\n",
              "    .dataframe thead th {\n",
              "        text-align: right;\n",
              "    }\n",
              "</style>\n",
              "<table border=\"1\" class=\"dataframe\">\n",
              "  <thead>\n",
              "    <tr style=\"text-align: right;\">\n",
              "      <th></th>\n",
              "      <th>Year</th>\n",
              "      <th>SMW</th>\n",
              "      <th>MaxT</th>\n",
              "      <th>MinT</th>\n",
              "      <th>RH1</th>\n",
              "      <th>RH2</th>\n",
              "      <th>RF</th>\n",
              "      <th>WS</th>\n",
              "      <th>SSH</th>\n",
              "      <th>EVPcm</th>\n",
              "    </tr>\n",
              "  </thead>\n",
              "  <tbody>\n",
              "    <tr>\n",
              "      <th>0</th>\n",
              "      <td>1994</td>\n",
              "      <td>1</td>\n",
              "      <td>27.2</td>\n",
              "      <td>18.6</td>\n",
              "      <td>90.0</td>\n",
              "      <td>69.0</td>\n",
              "      <td>1.5</td>\n",
              "      <td>2.6</td>\n",
              "      <td>6.8</td>\n",
              "      <td>1.91</td>\n",
              "    </tr>\n",
              "    <tr>\n",
              "      <th>1</th>\n",
              "      <td>1994</td>\n",
              "      <td>2</td>\n",
              "      <td>27.3</td>\n",
              "      <td>19.1</td>\n",
              "      <td>91.0</td>\n",
              "      <td>69.0</td>\n",
              "      <td>0.2</td>\n",
              "      <td>2.6</td>\n",
              "      <td>6.4</td>\n",
              "      <td>1.99</td>\n",
              "    </tr>\n",
              "    <tr>\n",
              "      <th>2</th>\n",
              "      <td>1994</td>\n",
              "      <td>3</td>\n",
              "      <td>27.9</td>\n",
              "      <td>19.3</td>\n",
              "      <td>92.0</td>\n",
              "      <td>68.0</td>\n",
              "      <td>0.1</td>\n",
              "      <td>1.9</td>\n",
              "      <td>7.2</td>\n",
              "      <td>1.84</td>\n",
              "    </tr>\n",
              "    <tr>\n",
              "      <th>3</th>\n",
              "      <td>1994</td>\n",
              "      <td>4</td>\n",
              "      <td>28.0</td>\n",
              "      <td>19.3</td>\n",
              "      <td>92.0</td>\n",
              "      <td>70.0</td>\n",
              "      <td>0.0</td>\n",
              "      <td>2.0</td>\n",
              "      <td>6.7</td>\n",
              "      <td>1.71</td>\n",
              "    </tr>\n",
              "    <tr>\n",
              "      <th>4</th>\n",
              "      <td>1994</td>\n",
              "      <td>5</td>\n",
              "      <td>28.7</td>\n",
              "      <td>19.3</td>\n",
              "      <td>93.0</td>\n",
              "      <td>68.0</td>\n",
              "      <td>0.9</td>\n",
              "      <td>1.8</td>\n",
              "      <td>7.2</td>\n",
              "      <td>2.00</td>\n",
              "    </tr>\n",
              "  </tbody>\n",
              "</table>\n",
              "</div>"
            ],
            "text/plain": [
              "   Year  SMW  MaxT  MinT   RH1   RH2   RF   WS  SSH  EVPcm\n",
              "0  1994    1  27.2  18.6  90.0  69.0  1.5  2.6  6.8   1.91\n",
              "1  1994    2  27.3  19.1  91.0  69.0  0.2  2.6  6.4   1.99\n",
              "2  1994    3  27.9  19.3  92.0  68.0  0.1  1.9  7.2   1.84\n",
              "3  1994    4  28.0  19.3  92.0  70.0  0.0  2.0  6.7   1.71\n",
              "4  1994    5  28.7  19.3  93.0  68.0  0.9  1.8  7.2   2.00"
            ]
          },
          "metadata": {},
          "execution_count": 7
        }
      ]
    },
    {
      "cell_type": "code",
      "metadata": {
        "id": "c8b5f8fa"
      },
      "source": [
        "df = df.rename(columns={\"Year\": \"year\", 'MaxT':'MAX','MinT':'MIN', 'RH1': 'RHI', 'RH2':'RHII', 'EVPcm':'EVAP'})"
      ],
      "id": "c8b5f8fa",
      "execution_count": 8,
      "outputs": []
    },
    {
      "cell_type": "code",
      "metadata": {
        "id": "8c0729e9",
        "outputId": "f7cf6576-e38a-4572-9da1-303ef209a474",
        "colab": {
          "base_uri": "https://localhost:8080/"
        }
      },
      "source": [
        "df.info()"
      ],
      "id": "8c0729e9",
      "execution_count": 9,
      "outputs": [
        {
          "output_type": "stream",
          "name": "stdout",
          "text": [
            "<class 'pandas.core.frame.DataFrame'>\n",
            "RangeIndex: 884 entries, 0 to 883\n",
            "Data columns (total 10 columns):\n",
            " #   Column  Non-Null Count  Dtype  \n",
            "---  ------  --------------  -----  \n",
            " 0   year    884 non-null    int64  \n",
            " 1   SMW     884 non-null    int64  \n",
            " 2   MAX     884 non-null    float64\n",
            " 3   MIN     884 non-null    float64\n",
            " 4   RHI     884 non-null    float64\n",
            " 5   RHII    884 non-null    float64\n",
            " 6   RF      884 non-null    float64\n",
            " 7   WS      884 non-null    float64\n",
            " 8   SSH     884 non-null    float64\n",
            " 9   EVAP    884 non-null    float64\n",
            "dtypes: float64(8), int64(2)\n",
            "memory usage: 69.2 KB\n"
          ]
        }
      ]
    },
    {
      "cell_type": "code",
      "metadata": {
        "id": "5f16d78d",
        "outputId": "1e7be0b1-6ca2-47d3-df71-4f8a34c0eb62",
        "colab": {
          "base_uri": "https://localhost:8080/",
          "height": 363
        }
      },
      "source": [
        "df.describe().transpose()"
      ],
      "id": "5f16d78d",
      "execution_count": 10,
      "outputs": [
        {
          "output_type": "execute_result",
          "data": {
            "text/html": [
              "<div>\n",
              "<style scoped>\n",
              "    .dataframe tbody tr th:only-of-type {\n",
              "        vertical-align: middle;\n",
              "    }\n",
              "\n",
              "    .dataframe tbody tr th {\n",
              "        vertical-align: top;\n",
              "    }\n",
              "\n",
              "    .dataframe thead th {\n",
              "        text-align: right;\n",
              "    }\n",
              "</style>\n",
              "<table border=\"1\" class=\"dataframe\">\n",
              "  <thead>\n",
              "    <tr style=\"text-align: right;\">\n",
              "      <th></th>\n",
              "      <th>count</th>\n",
              "      <th>mean</th>\n",
              "      <th>std</th>\n",
              "      <th>min</th>\n",
              "      <th>25%</th>\n",
              "      <th>50%</th>\n",
              "      <th>75%</th>\n",
              "      <th>max</th>\n",
              "    </tr>\n",
              "  </thead>\n",
              "  <tbody>\n",
              "    <tr>\n",
              "      <th>year</th>\n",
              "      <td>884.0</td>\n",
              "      <td>2002.000000</td>\n",
              "      <td>4.901753</td>\n",
              "      <td>1994.00</td>\n",
              "      <td>1998.000</td>\n",
              "      <td>2002.00</td>\n",
              "      <td>2006.000</td>\n",
              "      <td>2010.0</td>\n",
              "    </tr>\n",
              "    <tr>\n",
              "      <th>SMW</th>\n",
              "      <td>884.0</td>\n",
              "      <td>26.500000</td>\n",
              "      <td>15.016827</td>\n",
              "      <td>1.00</td>\n",
              "      <td>13.750</td>\n",
              "      <td>26.50</td>\n",
              "      <td>39.250</td>\n",
              "      <td>52.0</td>\n",
              "    </tr>\n",
              "    <tr>\n",
              "      <th>MAX</th>\n",
              "      <td>884.0</td>\n",
              "      <td>30.880430</td>\n",
              "      <td>2.896401</td>\n",
              "      <td>23.70</td>\n",
              "      <td>28.900</td>\n",
              "      <td>30.60</td>\n",
              "      <td>32.325</td>\n",
              "      <td>42.7</td>\n",
              "    </tr>\n",
              "    <tr>\n",
              "      <th>MIN</th>\n",
              "      <td>884.0</td>\n",
              "      <td>22.518100</td>\n",
              "      <td>2.903825</td>\n",
              "      <td>15.00</td>\n",
              "      <td>20.275</td>\n",
              "      <td>23.00</td>\n",
              "      <td>24.700</td>\n",
              "      <td>30.2</td>\n",
              "    </tr>\n",
              "    <tr>\n",
              "      <th>RHI</th>\n",
              "      <td>884.0</td>\n",
              "      <td>88.998529</td>\n",
              "      <td>4.756143</td>\n",
              "      <td>9.30</td>\n",
              "      <td>87.100</td>\n",
              "      <td>89.60</td>\n",
              "      <td>91.700</td>\n",
              "      <td>97.7</td>\n",
              "    </tr>\n",
              "    <tr>\n",
              "      <th>RHII</th>\n",
              "      <td>884.0</td>\n",
              "      <td>67.209615</td>\n",
              "      <td>10.973660</td>\n",
              "      <td>27.70</td>\n",
              "      <td>60.850</td>\n",
              "      <td>67.30</td>\n",
              "      <td>74.450</td>\n",
              "      <td>95.1</td>\n",
              "    </tr>\n",
              "    <tr>\n",
              "      <th>RF</th>\n",
              "      <td>884.0</td>\n",
              "      <td>17.618439</td>\n",
              "      <td>36.940888</td>\n",
              "      <td>0.00</td>\n",
              "      <td>0.000</td>\n",
              "      <td>0.00</td>\n",
              "      <td>17.775</td>\n",
              "      <td>332.0</td>\n",
              "    </tr>\n",
              "    <tr>\n",
              "      <th>WS</th>\n",
              "      <td>884.0</td>\n",
              "      <td>3.904525</td>\n",
              "      <td>2.417673</td>\n",
              "      <td>1.20</td>\n",
              "      <td>2.100</td>\n",
              "      <td>3.00</td>\n",
              "      <td>5.100</td>\n",
              "      <td>13.2</td>\n",
              "    </tr>\n",
              "    <tr>\n",
              "      <th>SSH</th>\n",
              "      <td>884.0</td>\n",
              "      <td>6.031674</td>\n",
              "      <td>2.347045</td>\n",
              "      <td>0.00</td>\n",
              "      <td>4.300</td>\n",
              "      <td>6.40</td>\n",
              "      <td>7.900</td>\n",
              "      <td>13.9</td>\n",
              "    </tr>\n",
              "    <tr>\n",
              "      <th>EVAP</th>\n",
              "      <td>884.0</td>\n",
              "      <td>3.359276</td>\n",
              "      <td>1.175747</td>\n",
              "      <td>1.67</td>\n",
              "      <td>2.500</td>\n",
              "      <td>3.07</td>\n",
              "      <td>4.000</td>\n",
              "      <td>8.6</td>\n",
              "    </tr>\n",
              "  </tbody>\n",
              "</table>\n",
              "</div>"
            ],
            "text/plain": [
              "      count         mean        std  ...      50%       75%     max\n",
              "year  884.0  2002.000000   4.901753  ...  2002.00  2006.000  2010.0\n",
              "SMW   884.0    26.500000  15.016827  ...    26.50    39.250    52.0\n",
              "MAX   884.0    30.880430   2.896401  ...    30.60    32.325    42.7\n",
              "MIN   884.0    22.518100   2.903825  ...    23.00    24.700    30.2\n",
              "RHI   884.0    88.998529   4.756143  ...    89.60    91.700    97.7\n",
              "RHII  884.0    67.209615  10.973660  ...    67.30    74.450    95.1\n",
              "RF    884.0    17.618439  36.940888  ...     0.00    17.775   332.0\n",
              "WS    884.0     3.904525   2.417673  ...     3.00     5.100    13.2\n",
              "SSH   884.0     6.031674   2.347045  ...     6.40     7.900    13.9\n",
              "EVAP  884.0     3.359276   1.175747  ...     3.07     4.000     8.6\n",
              "\n",
              "[10 rows x 8 columns]"
            ]
          },
          "metadata": {},
          "execution_count": 10
        }
      ]
    },
    {
      "cell_type": "code",
      "metadata": {
        "id": "8616a065",
        "outputId": "e3e7d6a1-fb03-4871-a2b1-fda46ca3f22c",
        "colab": {
          "base_uri": "https://localhost:8080/"
        }
      },
      "source": [
        "df.isnull().sum()"
      ],
      "id": "8616a065",
      "execution_count": 11,
      "outputs": [
        {
          "output_type": "execute_result",
          "data": {
            "text/plain": [
              "year    0\n",
              "SMW     0\n",
              "MAX     0\n",
              "MIN     0\n",
              "RHI     0\n",
              "RHII    0\n",
              "RF      0\n",
              "WS      0\n",
              "SSH     0\n",
              "EVAP    0\n",
              "dtype: int64"
            ]
          },
          "metadata": {},
          "execution_count": 11
        }
      ]
    },
    {
      "cell_type": "code",
      "metadata": {
        "id": "5516402b"
      },
      "source": [
        "sns.set_theme(style=\"ticks\", color_codes=True)"
      ],
      "id": "5516402b",
      "execution_count": 12,
      "outputs": []
    },
    {
      "cell_type": "code",
      "metadata": {
        "id": "5fdd0fc5"
      },
      "source": [
        "#Drop Emp_Title as it is not required\n",
        "df = df.drop([\"SSH\",\"SMW\"], axis=1)"
      ],
      "id": "5fdd0fc5",
      "execution_count": 13,
      "outputs": []
    },
    {
      "cell_type": "code",
      "metadata": {
        "id": "180da7c5"
      },
      "source": [
        "gby_df = df.groupby(['year'],as_index=False).mean()"
      ],
      "id": "180da7c5",
      "execution_count": 14,
      "outputs": []
    },
    {
      "cell_type": "code",
      "metadata": {
        "id": "11cdaa1c",
        "outputId": "fbf9a2bb-6898-4764-f6ae-e312b5fb1541",
        "colab": {
          "base_uri": "https://localhost:8080/",
          "height": 582
        }
      },
      "source": [
        "gby_df"
      ],
      "id": "11cdaa1c",
      "execution_count": 15,
      "outputs": [
        {
          "output_type": "execute_result",
          "data": {
            "text/html": [
              "<div>\n",
              "<style scoped>\n",
              "    .dataframe tbody tr th:only-of-type {\n",
              "        vertical-align: middle;\n",
              "    }\n",
              "\n",
              "    .dataframe tbody tr th {\n",
              "        vertical-align: top;\n",
              "    }\n",
              "\n",
              "    .dataframe thead th {\n",
              "        text-align: right;\n",
              "    }\n",
              "</style>\n",
              "<table border=\"1\" class=\"dataframe\">\n",
              "  <thead>\n",
              "    <tr style=\"text-align: right;\">\n",
              "      <th></th>\n",
              "      <th>year</th>\n",
              "      <th>MAX</th>\n",
              "      <th>MIN</th>\n",
              "      <th>RHI</th>\n",
              "      <th>RHII</th>\n",
              "      <th>RF</th>\n",
              "      <th>WS</th>\n",
              "      <th>EVAP</th>\n",
              "    </tr>\n",
              "  </thead>\n",
              "  <tbody>\n",
              "    <tr>\n",
              "      <th>0</th>\n",
              "      <td>1994</td>\n",
              "      <td>30.828846</td>\n",
              "      <td>22.600000</td>\n",
              "      <td>88.942308</td>\n",
              "      <td>67.211538</td>\n",
              "      <td>26.663462</td>\n",
              "      <td>3.005769</td>\n",
              "      <td>2.611346</td>\n",
              "    </tr>\n",
              "    <tr>\n",
              "      <th>1</th>\n",
              "      <td>1995</td>\n",
              "      <td>31.325000</td>\n",
              "      <td>21.636538</td>\n",
              "      <td>88.492308</td>\n",
              "      <td>67.211538</td>\n",
              "      <td>28.750000</td>\n",
              "      <td>3.005769</td>\n",
              "      <td>2.614231</td>\n",
              "    </tr>\n",
              "    <tr>\n",
              "      <th>2</th>\n",
              "      <td>1996</td>\n",
              "      <td>30.951923</td>\n",
              "      <td>21.726923</td>\n",
              "      <td>89.563462</td>\n",
              "      <td>67.211538</td>\n",
              "      <td>33.653846</td>\n",
              "      <td>3.005769</td>\n",
              "      <td>2.614231</td>\n",
              "    </tr>\n",
              "    <tr>\n",
              "      <th>3</th>\n",
              "      <td>1997</td>\n",
              "      <td>31.051923</td>\n",
              "      <td>21.540385</td>\n",
              "      <td>89.978846</td>\n",
              "      <td>67.211538</td>\n",
              "      <td>22.463462</td>\n",
              "      <td>3.005769</td>\n",
              "      <td>2.614231</td>\n",
              "    </tr>\n",
              "    <tr>\n",
              "      <th>4</th>\n",
              "      <td>1998</td>\n",
              "      <td>31.515385</td>\n",
              "      <td>22.438462</td>\n",
              "      <td>89.700000</td>\n",
              "      <td>77.194231</td>\n",
              "      <td>0.000000</td>\n",
              "      <td>4.901923</td>\n",
              "      <td>2.655577</td>\n",
              "    </tr>\n",
              "    <tr>\n",
              "      <th>5</th>\n",
              "      <td>1999</td>\n",
              "      <td>31.019231</td>\n",
              "      <td>21.794231</td>\n",
              "      <td>89.467308</td>\n",
              "      <td>69.096154</td>\n",
              "      <td>0.000000</td>\n",
              "      <td>4.901923</td>\n",
              "      <td>3.509615</td>\n",
              "    </tr>\n",
              "    <tr>\n",
              "      <th>6</th>\n",
              "      <td>2000</td>\n",
              "      <td>30.915385</td>\n",
              "      <td>21.775000</td>\n",
              "      <td>88.505769</td>\n",
              "      <td>69.817308</td>\n",
              "      <td>0.000000</td>\n",
              "      <td>4.913462</td>\n",
              "      <td>3.728846</td>\n",
              "    </tr>\n",
              "    <tr>\n",
              "      <th>7</th>\n",
              "      <td>2001</td>\n",
              "      <td>31.244231</td>\n",
              "      <td>21.969231</td>\n",
              "      <td>87.721154</td>\n",
              "      <td>66.911538</td>\n",
              "      <td>0.000000</td>\n",
              "      <td>5.001923</td>\n",
              "      <td>3.573077</td>\n",
              "    </tr>\n",
              "    <tr>\n",
              "      <th>8</th>\n",
              "      <td>2002</td>\n",
              "      <td>31.507692</td>\n",
              "      <td>22.019231</td>\n",
              "      <td>87.730769</td>\n",
              "      <td>64.171154</td>\n",
              "      <td>9.107692</td>\n",
              "      <td>5.136538</td>\n",
              "      <td>3.842308</td>\n",
              "    </tr>\n",
              "    <tr>\n",
              "      <th>9</th>\n",
              "      <td>2003</td>\n",
              "      <td>30.501923</td>\n",
              "      <td>22.800000</td>\n",
              "      <td>90.361538</td>\n",
              "      <td>72.865385</td>\n",
              "      <td>18.280769</td>\n",
              "      <td>5.221154</td>\n",
              "      <td>3.540385</td>\n",
              "    </tr>\n",
              "    <tr>\n",
              "      <th>10</th>\n",
              "      <td>2004</td>\n",
              "      <td>30.153846</td>\n",
              "      <td>22.701923</td>\n",
              "      <td>89.915385</td>\n",
              "      <td>72.515385</td>\n",
              "      <td>14.705769</td>\n",
              "      <td>5.038462</td>\n",
              "      <td>3.567308</td>\n",
              "    </tr>\n",
              "    <tr>\n",
              "      <th>11</th>\n",
              "      <td>2005</td>\n",
              "      <td>31.130769</td>\n",
              "      <td>23.396154</td>\n",
              "      <td>89.238462</td>\n",
              "      <td>69.582692</td>\n",
              "      <td>20.869231</td>\n",
              "      <td>4.219231</td>\n",
              "      <td>3.711538</td>\n",
              "    </tr>\n",
              "    <tr>\n",
              "      <th>12</th>\n",
              "      <td>2006</td>\n",
              "      <td>30.140385</td>\n",
              "      <td>23.175000</td>\n",
              "      <td>89.615385</td>\n",
              "      <td>66.967308</td>\n",
              "      <td>21.625000</td>\n",
              "      <td>3.005769</td>\n",
              "      <td>3.723077</td>\n",
              "    </tr>\n",
              "    <tr>\n",
              "      <th>13</th>\n",
              "      <td>2007</td>\n",
              "      <td>29.826923</td>\n",
              "      <td>23.813462</td>\n",
              "      <td>88.028846</td>\n",
              "      <td>62.982692</td>\n",
              "      <td>21.669231</td>\n",
              "      <td>3.005769</td>\n",
              "      <td>3.723077</td>\n",
              "    </tr>\n",
              "    <tr>\n",
              "      <th>14</th>\n",
              "      <td>2008</td>\n",
              "      <td>30.834615</td>\n",
              "      <td>22.657692</td>\n",
              "      <td>89.140385</td>\n",
              "      <td>64.367308</td>\n",
              "      <td>32.578846</td>\n",
              "      <td>3.005769</td>\n",
              "      <td>3.723077</td>\n",
              "    </tr>\n",
              "    <tr>\n",
              "      <th>15</th>\n",
              "      <td>2009</td>\n",
              "      <td>31.580769</td>\n",
              "      <td>23.792308</td>\n",
              "      <td>89.001923</td>\n",
              "      <td>57.948077</td>\n",
              "      <td>9.917308</td>\n",
              "      <td>2.996154</td>\n",
              "      <td>3.632692</td>\n",
              "    </tr>\n",
              "    <tr>\n",
              "      <th>16</th>\n",
              "      <td>2010</td>\n",
              "      <td>30.438462</td>\n",
              "      <td>22.971154</td>\n",
              "      <td>87.571154</td>\n",
              "      <td>59.298077</td>\n",
              "      <td>39.228846</td>\n",
              "      <td>3.005769</td>\n",
              "      <td>3.723077</td>\n",
              "    </tr>\n",
              "  </tbody>\n",
              "</table>\n",
              "</div>"
            ],
            "text/plain": [
              "    year        MAX        MIN  ...         RF        WS      EVAP\n",
              "0   1994  30.828846  22.600000  ...  26.663462  3.005769  2.611346\n",
              "1   1995  31.325000  21.636538  ...  28.750000  3.005769  2.614231\n",
              "2   1996  30.951923  21.726923  ...  33.653846  3.005769  2.614231\n",
              "3   1997  31.051923  21.540385  ...  22.463462  3.005769  2.614231\n",
              "4   1998  31.515385  22.438462  ...   0.000000  4.901923  2.655577\n",
              "5   1999  31.019231  21.794231  ...   0.000000  4.901923  3.509615\n",
              "6   2000  30.915385  21.775000  ...   0.000000  4.913462  3.728846\n",
              "7   2001  31.244231  21.969231  ...   0.000000  5.001923  3.573077\n",
              "8   2002  31.507692  22.019231  ...   9.107692  5.136538  3.842308\n",
              "9   2003  30.501923  22.800000  ...  18.280769  5.221154  3.540385\n",
              "10  2004  30.153846  22.701923  ...  14.705769  5.038462  3.567308\n",
              "11  2005  31.130769  23.396154  ...  20.869231  4.219231  3.711538\n",
              "12  2006  30.140385  23.175000  ...  21.625000  3.005769  3.723077\n",
              "13  2007  29.826923  23.813462  ...  21.669231  3.005769  3.723077\n",
              "14  2008  30.834615  22.657692  ...  32.578846  3.005769  3.723077\n",
              "15  2009  31.580769  23.792308  ...   9.917308  2.996154  3.632692\n",
              "16  2010  30.438462  22.971154  ...  39.228846  3.005769  3.723077\n",
              "\n",
              "[17 rows x 8 columns]"
            ]
          },
          "metadata": {},
          "execution_count": 15
        }
      ]
    },
    {
      "cell_type": "code",
      "metadata": {
        "id": "626c10af",
        "outputId": "e7656b42-8c3d-4780-aa13-39f2abdb7b31",
        "colab": {
          "base_uri": "https://localhost:8080/",
          "height": 536
        }
      },
      "source": [
        "gby_df.plot(x=\"year\", y=['MAX', 'MIN', 'RHI', 'RHII', 'WS', 'RF',\n",
        "       'EVAP'], kind=\"bar\", title=\"Compare All vs Year (Avg)\", figsize=(12,8))\n",
        "plt.box(False)"
      ],
      "id": "626c10af",
      "execution_count": 16,
      "outputs": [
        {
          "output_type": "display_data",
          "data": {
            "image/png": "[encoded data removed]",
            "text/plain": [
              "<Figure size 864x576 with 1 Axes>"
            ]
          },
          "metadata": {}
        }
      ]
    },
    {
      "cell_type": "code",
      "metadata": {
        "id": "bbb6c73f",
        "outputId": "0a71c5f4-4bbb-41ab-abe1-85befe71f65e",
        "colab": {
          "base_uri": "https://localhost:8080/",
          "height": 518
        }
      },
      "source": [
        "gby_df.plot(x=\"year\", y=['MAX', 'MIN', 'RHI', 'RHII', 'WS', 'RF',\n",
        "       'EVAP'], kind=\"line\", title=\"Compare All vs Year (Avg)\", figsize=(12,8))\n",
        "plt.box(False)"
      ],
      "id": "bbb6c73f",
      "execution_count": 17,
      "outputs": [
        {
          "output_type": "display_data",
          "data": {
            "image/png": "[encoded data removed]",
            "text/plain": [
              "<Figure size 864x576 with 1 Axes>"
            ]
          },
          "metadata": {}
        }
      ]
    },
    {
      "cell_type": "code",
      "metadata": {
        "id": "48ce25d7",
        "outputId": "28ccab5a-99d6-4e7b-bdc0-159bbda25c6c",
        "colab": {
          "base_uri": "https://localhost:8080/",
          "height": 518
        }
      },
      "source": [
        "gby_df.plot(x=\"year\", y=['MAX', 'MIN', 'RHI', 'RHII', 'WS', 'RF',\n",
        "       'EVAP'], kind=\"area\", title=\"Compare All vs Year (Avg)\", figsize=(12,8))\n",
        "plt.box(False)"
      ],
      "id": "48ce25d7",
      "execution_count": 18,
      "outputs": [
        {
          "output_type": "display_data",
          "data": {
            "image/png": "[encoded data removed]",
            "text/plain": [
              "<Figure size 864x576 with 1 Axes>"
            ]
          },
          "metadata": {}
        }
      ]
    },
    {
      "cell_type": "code",
      "metadata": {
        "id": "5839fb78",
        "outputId": "ac1f1a40-cf57-4fb2-a846-eb161fe0bda1",
        "colab": {
          "base_uri": "https://localhost:8080/",
          "height": 428
        }
      },
      "source": [
        "gby_df.plot(x=\"year\", y=[\"RF\", \"EVAP\"], kind=\"bar\", title=\"Avg of Rainfall vs Evaporation per year\", figsize=(10,6))\n",
        "plt.box(True)"
      ],
      "id": "5839fb78",
      "execution_count": 19,
      "outputs": [
        {
          "output_type": "display_data",
          "data": {
            "image/png": "[encoded data removed]",
            "text/plain": [
              "<Figure size 720x432 with 1 Axes>"
            ]
          },
          "metadata": {}
        }
      ]
    },
    {
      "cell_type": "code",
      "metadata": {
        "id": "2a1ccad7",
        "outputId": "be602318-7ed4-4731-8fdd-a2a006794b29",
        "colab": {
          "base_uri": "https://localhost:8080/",
          "height": 428
        }
      },
      "source": [
        "ax = gby_df.plot(x=\"year\", y=[\"RF\"], kind=\"bar\")\n",
        "gby_df.plot(ax=ax, x=\"year\", y=[\"EVAP\"], kind=\"bar\", color=\"orange\", title=\"Rainfall vs Evaporation\", figsize=(10,6))\n",
        "plt.box(False)"
      ],
      "id": "2a1ccad7",
      "execution_count": 20,
      "outputs": [
        {
          "output_type": "display_data",
          "data": {
            "image/png": "[encoded data removed]",
            "text/plain": [
              "<Figure size 720x432 with 1 Axes>"
            ]
          },
          "metadata": {}
        }
      ]
    },
    {
      "cell_type": "code",
      "metadata": {
        "id": "4c1365dd",
        "outputId": "e6d964b1-7016-48b8-f6d6-49f43fddd81a",
        "colab": {
          "base_uri": "https://localhost:8080/",
          "height": 618
        }
      },
      "source": [
        "s = sns.catplot(x=\"year\", y=\"RF\", kind=\"swarm\", data=gby_df, height=8.27, aspect=11.7/8.27)\n",
        "s.set_xlabels(\"Year\")\n",
        "s.set_ylabels(\"RainFall\")\n",
        "s.fig.suptitle('Rainfall vs Year')"
      ],
      "id": "4c1365dd",
      "execution_count": 21,
      "outputs": [
        {
          "output_type": "execute_result",
          "data": {
            "text/plain": [
              "Text(0.5, 0.98, 'Rainfall vs Year')"
            ]
          },
          "metadata": {},
          "execution_count": 21
        },
        {
          "output_type": "display_data",
          "data": {
            "image/png": "[encoded data removed]",
            "text/plain": [
              "<Figure size 842.4x595.44 with 1 Axes>"
            ]
          },
          "metadata": {}
        }
      ]
    },
    {
      "cell_type": "code",
      "metadata": {
        "id": "d5e74116",
        "outputId": "039133f7-6928-4520-b7d2-88a2595b64be",
        "colab": {
          "base_uri": "https://localhost:8080/",
          "height": 407
        }
      },
      "source": [
        "s = sns.catplot(x=\"year\", y=\"RF\", kind=\"bar\", data=gby_df, height=5.27, aspect=9.7/6.27)\n",
        "s.set_xlabels(\"Year\")\n",
        "s.set_ylabels(\"RainFall\")\n",
        "s.fig.suptitle('Rainfall vs Year')"
      ],
      "id": "d5e74116",
      "execution_count": 22,
      "outputs": [
        {
          "output_type": "execute_result",
          "data": {
            "text/plain": [
              "Text(0.5, 0.98, 'Rainfall vs Year')"
            ]
          },
          "metadata": {},
          "execution_count": 22
        },
        {
          "output_type": "display_data",
          "data": {
            "image/png": "[encoded data removed]",
            "text/plain": [
              "<Figure size 587.012x379.44 with 1 Axes>"
            ]
          },
          "metadata": {}
        }
      ]
    },
    {
      "cell_type": "code",
      "metadata": {
        "id": "ac799112"
      },
      "source": [
        "#Drop year as it is not required\n",
        "df = df.drop([\"year\"], axis=1)"
      ],
      "id": "ac799112",
      "execution_count": 23,
      "outputs": []
    },
    {
      "cell_type": "code",
      "metadata": {
        "id": "712e3773",
        "outputId": "fd40b117-4ded-45e1-88b1-5cb86a258f5d",
        "colab": {
          "base_uri": "https://localhost:8080/",
          "height": 206
        }
      },
      "source": [
        "df.head()"
      ],
      "id": "712e3773",
      "execution_count": 24,
      "outputs": [
        {
          "output_type": "execute_result",
          "data": {
            "text/html": [
              "<div>\n",
              "<style scoped>\n",
              "    .dataframe tbody tr th:only-of-type {\n",
              "        vertical-align: middle;\n",
              "    }\n",
              "\n",
              "    .dataframe tbody tr th {\n",
              "        vertical-align: top;\n",
              "    }\n",
              "\n",
              "    .dataframe thead th {\n",
              "        text-align: right;\n",
              "    }\n",
              "</style>\n",
              "<table border=\"1\" class=\"dataframe\">\n",
              "  <thead>\n",
              "    <tr style=\"text-align: right;\">\n",
              "      <th></th>\n",
              "      <th>MAX</th>\n",
              "      <th>MIN</th>\n",
              "      <th>RHI</th>\n",
              "      <th>RHII</th>\n",
              "      <th>RF</th>\n",
              "      <th>WS</th>\n",
              "      <th>EVAP</th>\n",
              "    </tr>\n",
              "  </thead>\n",
              "  <tbody>\n",
              "    <tr>\n",
              "      <th>0</th>\n",
              "      <td>27.2</td>\n",
              "      <td>18.6</td>\n",
              "      <td>90.0</td>\n",
              "      <td>69.0</td>\n",
              "      <td>1.5</td>\n",
              "      <td>2.6</td>\n",
              "      <td>1.91</td>\n",
              "    </tr>\n",
              "    <tr>\n",
              "      <th>1</th>\n",
              "      <td>27.3</td>\n",
              "      <td>19.1</td>\n",
              "      <td>91.0</td>\n",
              "      <td>69.0</td>\n",
              "      <td>0.2</td>\n",
              "      <td>2.6</td>\n",
              "      <td>1.99</td>\n",
              "    </tr>\n",
              "    <tr>\n",
              "      <th>2</th>\n",
              "      <td>27.9</td>\n",
              "      <td>19.3</td>\n",
              "      <td>92.0</td>\n",
              "      <td>68.0</td>\n",
              "      <td>0.1</td>\n",
              "      <td>1.9</td>\n",
              "      <td>1.84</td>\n",
              "    </tr>\n",
              "    <tr>\n",
              "      <th>3</th>\n",
              "      <td>28.0</td>\n",
              "      <td>19.3</td>\n",
              "      <td>92.0</td>\n",
              "      <td>70.0</td>\n",
              "      <td>0.0</td>\n",
              "      <td>2.0</td>\n",
              "      <td>1.71</td>\n",
              "    </tr>\n",
              "    <tr>\n",
              "      <th>4</th>\n",
              "      <td>28.7</td>\n",
              "      <td>19.3</td>\n",
              "      <td>93.0</td>\n",
              "      <td>68.0</td>\n",
              "      <td>0.9</td>\n",
              "      <td>1.8</td>\n",
              "      <td>2.00</td>\n",
              "    </tr>\n",
              "  </tbody>\n",
              "</table>\n",
              "</div>"
            ],
            "text/plain": [
              "    MAX   MIN   RHI  RHII   RF   WS  EVAP\n",
              "0  27.2  18.6  90.0  69.0  1.5  2.6  1.91\n",
              "1  27.3  19.1  91.0  69.0  0.2  2.6  1.99\n",
              "2  27.9  19.3  92.0  68.0  0.1  1.9  1.84\n",
              "3  28.0  19.3  92.0  70.0  0.0  2.0  1.71\n",
              "4  28.7  19.3  93.0  68.0  0.9  1.8  2.00"
            ]
          },
          "metadata": {},
          "execution_count": 24
        }
      ]
    },
    {
      "cell_type": "code",
      "metadata": {
        "id": "75c15a63",
        "outputId": "38fc54bf-b234-4bfd-b983-ebd0897f8e4c",
        "colab": {
          "base_uri": "https://localhost:8080/",
          "height": 377
        }
      },
      "source": [
        "# correlation heat map\n",
        "plt.figure(figsize=(12, 6))\n",
        "df_corr = df.corr()\n",
        "\n",
        "# min -1 and max +1 as we are plotting correlation\n",
        "sns.heatmap(df.corr(), cmap=\"Blues\", annot=True, fmt=\".2f\", vmin= -1.0, vmax=1.0,\n",
        "           linewidth=0.3, cbar_kws={\"shrink\": .8})\n",
        "# yticks\n",
        "plt.yticks(rotation=0)\n",
        "plt.show()"
      ],
      "id": "75c15a63",
      "execution_count": 25,
      "outputs": [
        {
          "output_type": "display_data",
          "data": {
            "image/png": "[encoded data removed]",
            "text/plain": [
              "<Figure size 864x432 with 2 Axes>"
            ]
          },
          "metadata": {}
        }
      ]
    },
    {
      "cell_type": "code",
      "metadata": {
        "id": "d772b6b0",
        "outputId": "af3a294d-2b5e-477d-e5c0-30ea6e884d9b",
        "colab": {
          "base_uri": "https://localhost:8080/"
        }
      },
      "source": [
        "df = df.drop(\"RHII\", axis=1)\n",
        "df.columns"
      ],
      "id": "d772b6b0",
      "execution_count": 26,
      "outputs": [
        {
          "output_type": "execute_result",
          "data": {
            "text/plain": [
              "Index(['MAX', 'MIN', 'RHI', 'RF', 'WS', 'EVAP'], dtype='object')"
            ]
          },
          "metadata": {},
          "execution_count": 26
        }
      ]
    },
    {
      "cell_type": "code",
      "metadata": {
        "id": "3503c2cb",
        "outputId": "e8d9a7d7-1657-4d45-f19d-4bf07114eb9a",
        "colab": {
          "base_uri": "https://localhost:8080/",
          "height": 424
        }
      },
      "source": [
        "from scipy import stats\n",
        "df[(np.abs(stats.zscore(df)) < 3).all(axis=1)]"
      ],
      "id": "3503c2cb",
      "execution_count": 27,
      "outputs": [
        {
          "output_type": "execute_result",
          "data": {
            "text/html": [
              "<div>\n",
              "<style scoped>\n",
              "    .dataframe tbody tr th:only-of-type {\n",
              "        vertical-align: middle;\n",
              "    }\n",
              "\n",
              "    .dataframe tbody tr th {\n",
              "        vertical-align: top;\n",
              "    }\n",
              "\n",
              "    .dataframe thead th {\n",
              "        text-align: right;\n",
              "    }\n",
              "</style>\n",
              "<table border=\"1\" class=\"dataframe\">\n",
              "  <thead>\n",
              "    <tr style=\"text-align: right;\">\n",
              "      <th></th>\n",
              "      <th>MAX</th>\n",
              "      <th>MIN</th>\n",
              "      <th>RHI</th>\n",
              "      <th>RF</th>\n",
              "      <th>WS</th>\n",
              "      <th>EVAP</th>\n",
              "    </tr>\n",
              "  </thead>\n",
              "  <tbody>\n",
              "    <tr>\n",
              "      <th>0</th>\n",
              "      <td>27.2</td>\n",
              "      <td>18.6</td>\n",
              "      <td>90.0</td>\n",
              "      <td>1.5</td>\n",
              "      <td>2.6</td>\n",
              "      <td>1.91</td>\n",
              "    </tr>\n",
              "    <tr>\n",
              "      <th>1</th>\n",
              "      <td>27.3</td>\n",
              "      <td>19.1</td>\n",
              "      <td>91.0</td>\n",
              "      <td>0.2</td>\n",
              "      <td>2.6</td>\n",
              "      <td>1.99</td>\n",
              "    </tr>\n",
              "    <tr>\n",
              "      <th>2</th>\n",
              "      <td>27.9</td>\n",
              "      <td>19.3</td>\n",
              "      <td>92.0</td>\n",
              "      <td>0.1</td>\n",
              "      <td>1.9</td>\n",
              "      <td>1.84</td>\n",
              "    </tr>\n",
              "    <tr>\n",
              "      <th>3</th>\n",
              "      <td>28.0</td>\n",
              "      <td>19.3</td>\n",
              "      <td>92.0</td>\n",
              "      <td>0.0</td>\n",
              "      <td>2.0</td>\n",
              "      <td>1.71</td>\n",
              "    </tr>\n",
              "    <tr>\n",
              "      <th>4</th>\n",
              "      <td>28.7</td>\n",
              "      <td>19.3</td>\n",
              "      <td>93.0</td>\n",
              "      <td>0.9</td>\n",
              "      <td>1.8</td>\n",
              "      <td>2.00</td>\n",
              "    </tr>\n",
              "    <tr>\n",
              "      <th>...</th>\n",
              "      <td>...</td>\n",
              "      <td>...</td>\n",
              "      <td>...</td>\n",
              "      <td>...</td>\n",
              "      <td>...</td>\n",
              "      <td>...</td>\n",
              "    </tr>\n",
              "    <tr>\n",
              "      <th>879</th>\n",
              "      <td>30.3</td>\n",
              "      <td>20.3</td>\n",
              "      <td>88.6</td>\n",
              "      <td>0.0</td>\n",
              "      <td>4.2</td>\n",
              "      <td>2.80</td>\n",
              "    </tr>\n",
              "    <tr>\n",
              "      <th>880</th>\n",
              "      <td>26.1</td>\n",
              "      <td>20.1</td>\n",
              "      <td>89.0</td>\n",
              "      <td>107.0</td>\n",
              "      <td>3.0</td>\n",
              "      <td>2.80</td>\n",
              "    </tr>\n",
              "    <tr>\n",
              "      <th>881</th>\n",
              "      <td>27.3</td>\n",
              "      <td>20.1</td>\n",
              "      <td>88.1</td>\n",
              "      <td>0.0</td>\n",
              "      <td>2.9</td>\n",
              "      <td>2.60</td>\n",
              "    </tr>\n",
              "    <tr>\n",
              "      <th>882</th>\n",
              "      <td>27.3</td>\n",
              "      <td>16.2</td>\n",
              "      <td>83.1</td>\n",
              "      <td>0.0</td>\n",
              "      <td>2.1</td>\n",
              "      <td>2.50</td>\n",
              "    </tr>\n",
              "    <tr>\n",
              "      <th>883</th>\n",
              "      <td>27.3</td>\n",
              "      <td>16.6</td>\n",
              "      <td>87.8</td>\n",
              "      <td>0.0</td>\n",
              "      <td>1.6</td>\n",
              "      <td>2.60</td>\n",
              "    </tr>\n",
              "  </tbody>\n",
              "</table>\n",
              "<p>833 rows × 6 columns</p>\n",
              "</div>"
            ],
            "text/plain": [
              "      MAX   MIN   RHI     RF   WS  EVAP\n",
              "0    27.2  18.6  90.0    1.5  2.6  1.91\n",
              "1    27.3  19.1  91.0    0.2  2.6  1.99\n",
              "2    27.9  19.3  92.0    0.1  1.9  1.84\n",
              "3    28.0  19.3  92.0    0.0  2.0  1.71\n",
              "4    28.7  19.3  93.0    0.9  1.8  2.00\n",
              "..    ...   ...   ...    ...  ...   ...\n",
              "879  30.3  20.3  88.6    0.0  4.2  2.80\n",
              "880  26.1  20.1  89.0  107.0  3.0  2.80\n",
              "881  27.3  20.1  88.1    0.0  2.9  2.60\n",
              "882  27.3  16.2  83.1    0.0  2.1  2.50\n",
              "883  27.3  16.6  87.8    0.0  1.6  2.60\n",
              "\n",
              "[833 rows x 6 columns]"
            ]
          },
          "metadata": {},
          "execution_count": 27
        }
      ]
    },
    {
      "cell_type": "code",
      "metadata": {
        "id": "187590b9"
      },
      "source": [
        "X = df.drop('EVAP', axis=1).values\n",
        "y = df['EVAP'].values"
      ],
      "id": "187590b9",
      "execution_count": 28,
      "outputs": []
    },
    {
      "cell_type": "code",
      "metadata": {
        "id": "9b27cf0b"
      },
      "source": [
        "X_train, X_test, y_train, y_test = train_test_split(X, y, test_size=0.2)"
      ],
      "id": "9b27cf0b",
      "execution_count": 29,
      "outputs": []
    },
    {
      "cell_type": "code",
      "metadata": {
        "id": "f762bf5e"
      },
      "source": [
        "scaler = MinMaxScaler()\n",
        "X_train = scaler.fit_transform(X_train)\n",
        "X_test = scaler.transform(X_test)"
      ],
      "id": "f762bf5e",
      "execution_count": 30,
      "outputs": []
    },
    {
      "cell_type": "code",
      "metadata": {
        "id": "cb7368c1",
        "outputId": "16cff98a-a5b8-4c2f-b1d6-f7ecb94db2ab",
        "colab": {
          "base_uri": "https://localhost:8080/"
        }
      },
      "source": [
        "X_train.shape"
      ],
      "id": "cb7368c1",
      "execution_count": 31,
      "outputs": [
        {
          "output_type": "execute_result",
          "data": {
            "text/plain": [
              "(707, 5)"
            ]
          },
          "metadata": {},
          "execution_count": 31
        }
      ]
    },
    {
      "cell_type": "code",
      "metadata": {
        "id": "d3349750"
      },
      "source": [
        "early_stop = EarlyStopping(monitor='val_loss', mode='min', verbose=1, patience=10)"
      ],
      "id": "d3349750",
      "execution_count": 32,
      "outputs": []
    },
    {
      "cell_type": "code",
      "metadata": {
        "id": "226bf378"
      },
      "source": [
        "from tensorflow.keras.models import load_model\n",
        "from tensorflow.keras import layers, Input\n",
        "from tensorflow.keras import Model"
      ],
      "id": "226bf378",
      "execution_count": 33,
      "outputs": []
    },
    {
      "cell_type": "code",
      "metadata": {
        "id": "e112490a"
      },
      "source": [
        "def build_model():\n",
        "    # Define model layers.\n",
        "    input_layer = Input(shape=(5,))\n",
        "    first_dense = Dense(units='128', activation='relu')(input_layer)\n",
        "    # Y1 output will be fed from the first dense\n",
        "    y1_output = Dense(units='1', name='layer1_output')(first_dense)\n",
        "    second_dense = Dense(units='128',activation='relu')(first_dense)\n",
        "    # Y2 output will be fed from the second dense\n",
        "    y2_output = Dense(units='1',name='layer2_output')(second_dense)\n",
        "    # Define the model with the input layer \n",
        "    # and a list of output layers\n",
        "    model = Model(inputs=input_layer,outputs=[y1_output, y2_output])\n",
        "    return model"
      ],
      "id": "e112490a",
      "execution_count": 34,
      "outputs": []
    },
    {
      "cell_type": "code",
      "metadata": {
        "id": "9dd323dc"
      },
      "source": [
        "model = build_model()\n",
        "model.compile(loss=\"mean_squared_error\", optimizer='adam')"
      ],
      "id": "9dd323dc",
      "execution_count": 35,
      "outputs": []
    },
    {
      "cell_type": "code",
      "metadata": {
        "id": "aa1ca875",
        "outputId": "f3203513-33dc-4440-d0ee-7c4eb943a8e2",
        "colab": {
          "base_uri": "https://localhost:8080/"
        }
      },
      "source": [
        "model.summary()"
      ],
      "id": "aa1ca875",
      "execution_count": 36,
      "outputs": [
        {
          "output_type": "stream",
          "name": "stdout",
          "text": [
            "Model: \"model\"\n",
            "__________________________________________________________________________________________________\n",
            " Layer (type)                   Output Shape         Param #     Connected to                     \n",
            "==================================================================================================\n",
            " input_1 (InputLayer)           [(None, 5)]          0           []                               \n",
            "                                                                                                  \n",
            " dense (Dense)                  (None, 128)          768         ['input_1[0][0]']                \n",
            "                                                                                                  \n",
            " dense_1 (Dense)                (None, 128)          16512       ['dense[0][0]']                  \n",
            "                                                                                                  \n",
            " layer1_output (Dense)          (None, 1)            129         ['dense[0][0]']                  \n",
            "                                                                                                  \n",
            " layer2_output (Dense)          (None, 1)            129         ['dense_1[0][0]']                \n",
            "                                                                                                  \n",
            "==================================================================================================\n",
            "Total params: 17,538\n",
            "Trainable params: 17,538\n",
            "Non-trainable params: 0\n",
            "__________________________________________________________________________________________________\n"
          ]
        }
      ]
    },
    {
      "cell_type": "code",
      "metadata": {
        "id": "4682e96c",
        "outputId": "c4b5d949-6950-4cf3-d44c-04d22ac8b2c4",
        "colab": {
          "base_uri": "https://localhost:8080/"
        }
      },
      "source": [
        "model.fit(X_train, y_train, validation_data = (X_test, y_test), epochs=100, batch_size=5, callbacks=[early_stop])"
      ],
      "id": "4682e96c",
      "execution_count": 37,
      "outputs": [
        {
          "output_type": "stream",
          "name": "stdout",
          "text": [
            "Epoch 1/100\n",
            "142/142 [==============================] - 1s 4ms/step - loss: 7.1089 - layer1_output_loss: 4.8058 - layer2_output_loss: 2.3031 - val_loss: 1.7445 - val_layer1_output_loss: 0.9156 - val_layer2_output_loss: 0.8290\n",
            "Epoch 2/100\n",
            "142/142 [==============================] - 0s 2ms/step - loss: 1.7122 - layer1_output_loss: 0.9021 - layer2_output_loss: 0.8101 - val_loss: 1.5231 - val_layer1_output_loss: 0.8165 - val_layer2_output_loss: 0.7065\n",
            "Epoch 3/100\n",
            "142/142 [==============================] - 0s 3ms/step - loss: 1.5867 - layer1_output_loss: 0.8378 - layer2_output_loss: 0.7489 - val_loss: 1.4364 - val_layer1_output_loss: 0.7802 - val_layer2_output_loss: 0.6561\n",
            "Epoch 4/100\n",
            "142/142 [==============================] - 0s 2ms/step - loss: 1.4956 - layer1_output_loss: 0.7943 - layer2_output_loss: 0.7012 - val_loss: 1.3708 - val_layer1_output_loss: 0.7249 - val_layer2_output_loss: 0.6459\n",
            "Epoch 5/100\n",
            "142/142 [==============================] - 0s 2ms/step - loss: 1.4298 - layer1_output_loss: 0.7536 - layer2_output_loss: 0.6762 - val_loss: 1.3644 - val_layer1_output_loss: 0.7259 - val_layer2_output_loss: 0.6385\n",
            "Epoch 6/100\n",
            "142/142 [==============================] - 0s 2ms/step - loss: 1.4398 - layer1_output_loss: 0.7354 - layer2_output_loss: 0.7044 - val_loss: 1.3792 - val_layer1_output_loss: 0.7048 - val_layer2_output_loss: 0.6744\n",
            "Epoch 7/100\n",
            "142/142 [==============================] - 0s 3ms/step - loss: 1.3939 - layer1_output_loss: 0.7143 - layer2_output_loss: 0.6796 - val_loss: 1.2977 - val_layer1_output_loss: 0.6686 - val_layer2_output_loss: 0.6291\n",
            "Epoch 8/100\n",
            "142/142 [==============================] - 0s 2ms/step - loss: 1.3451 - layer1_output_loss: 0.6940 - layer2_output_loss: 0.6511 - val_loss: 1.2746 - val_layer1_output_loss: 0.6625 - val_layer2_output_loss: 0.6121\n",
            "Epoch 9/100\n",
            "142/142 [==============================] - 0s 2ms/step - loss: 1.3480 - layer1_output_loss: 0.6896 - layer2_output_loss: 0.6584 - val_loss: 1.2986 - val_layer1_output_loss: 0.6811 - val_layer2_output_loss: 0.6175\n",
            "Epoch 10/100\n",
            "142/142 [==============================] - 0s 3ms/step - loss: 1.3195 - layer1_output_loss: 0.6817 - layer2_output_loss: 0.6378 - val_loss: 1.4802 - val_layer1_output_loss: 0.6458 - val_layer2_output_loss: 0.8344\n",
            "Epoch 11/100\n",
            "142/142 [==============================] - 0s 2ms/step - loss: 1.3086 - layer1_output_loss: 0.6684 - layer2_output_loss: 0.6402 - val_loss: 1.2563 - val_layer1_output_loss: 0.6619 - val_layer2_output_loss: 0.5944\n",
            "Epoch 12/100\n",
            "142/142 [==============================] - 0s 2ms/step - loss: 1.3080 - layer1_output_loss: 0.6640 - layer2_output_loss: 0.6440 - val_loss: 1.2718 - val_layer1_output_loss: 0.6460 - val_layer2_output_loss: 0.6257\n",
            "Epoch 13/100\n",
            "142/142 [==============================] - 0s 2ms/step - loss: 1.2756 - layer1_output_loss: 0.6541 - layer2_output_loss: 0.6215 - val_loss: 1.2715 - val_layer1_output_loss: 0.6443 - val_layer2_output_loss: 0.6272\n",
            "Epoch 14/100\n",
            "142/142 [==============================] - 0s 2ms/step - loss: 1.2777 - layer1_output_loss: 0.6502 - layer2_output_loss: 0.6275 - val_loss: 1.2521 - val_layer1_output_loss: 0.6375 - val_layer2_output_loss: 0.6145\n",
            "Epoch 15/100\n",
            "142/142 [==============================] - 0s 2ms/step - loss: 1.2565 - layer1_output_loss: 0.6415 - layer2_output_loss: 0.6150 - val_loss: 1.2922 - val_layer1_output_loss: 0.6421 - val_layer2_output_loss: 0.6500\n",
            "Epoch 16/100\n",
            "142/142 [==============================] - 0s 3ms/step - loss: 1.2624 - layer1_output_loss: 0.6425 - layer2_output_loss: 0.6199 - val_loss: 1.2761 - val_layer1_output_loss: 0.6279 - val_layer2_output_loss: 0.6482\n",
            "Epoch 17/100\n",
            "142/142 [==============================] - 0s 3ms/step - loss: 1.2865 - layer1_output_loss: 0.6439 - layer2_output_loss: 0.6426 - val_loss: 1.2193 - val_layer1_output_loss: 0.6307 - val_layer2_output_loss: 0.5886\n",
            "Epoch 18/100\n",
            "142/142 [==============================] - 0s 3ms/step - loss: 1.2368 - layer1_output_loss: 0.6308 - layer2_output_loss: 0.6060 - val_loss: 1.2048 - val_layer1_output_loss: 0.6292 - val_layer2_output_loss: 0.5756\n",
            "Epoch 19/100\n",
            "142/142 [==============================] - 0s 2ms/step - loss: 1.2264 - layer1_output_loss: 0.6263 - layer2_output_loss: 0.6001 - val_loss: 1.1929 - val_layer1_output_loss: 0.6104 - val_layer2_output_loss: 0.5825\n",
            "Epoch 20/100\n",
            "142/142 [==============================] - 0s 2ms/step - loss: 1.2408 - layer1_output_loss: 0.6287 - layer2_output_loss: 0.6121 - val_loss: 1.1974 - val_layer1_output_loss: 0.6096 - val_layer2_output_loss: 0.5878\n",
            "Epoch 21/100\n",
            "142/142 [==============================] - 0s 2ms/step - loss: 1.2016 - layer1_output_loss: 0.6149 - layer2_output_loss: 0.5867 - val_loss: 1.2283 - val_layer1_output_loss: 0.6253 - val_layer2_output_loss: 0.6030\n",
            "Epoch 22/100\n",
            "142/142 [==============================] - 0s 2ms/step - loss: 1.1868 - layer1_output_loss: 0.6102 - layer2_output_loss: 0.5766 - val_loss: 1.2027 - val_layer1_output_loss: 0.6264 - val_layer2_output_loss: 0.5763\n",
            "Epoch 23/100\n",
            "142/142 [==============================] - 0s 2ms/step - loss: 1.2207 - layer1_output_loss: 0.6134 - layer2_output_loss: 0.6073 - val_loss: 1.1742 - val_layer1_output_loss: 0.6002 - val_layer2_output_loss: 0.5740\n",
            "Epoch 24/100\n",
            "142/142 [==============================] - 0s 2ms/step - loss: 1.2280 - layer1_output_loss: 0.6161 - layer2_output_loss: 0.6119 - val_loss: 1.1738 - val_layer1_output_loss: 0.6015 - val_layer2_output_loss: 0.5723\n",
            "Epoch 25/100\n",
            "142/142 [==============================] - 0s 3ms/step - loss: 1.2102 - layer1_output_loss: 0.6076 - layer2_output_loss: 0.6027 - val_loss: 1.1905 - val_layer1_output_loss: 0.6082 - val_layer2_output_loss: 0.5822\n",
            "Epoch 26/100\n",
            "142/142 [==============================] - 0s 2ms/step - loss: 1.2094 - layer1_output_loss: 0.6088 - layer2_output_loss: 0.6006 - val_loss: 1.1629 - val_layer1_output_loss: 0.5974 - val_layer2_output_loss: 0.5656\n",
            "Epoch 27/100\n",
            "142/142 [==============================] - 0s 3ms/step - loss: 1.1908 - layer1_output_loss: 0.6027 - layer2_output_loss: 0.5880 - val_loss: 1.2209 - val_layer1_output_loss: 0.6195 - val_layer2_output_loss: 0.6014\n",
            "Epoch 28/100\n",
            "142/142 [==============================] - 0s 3ms/step - loss: 1.2006 - layer1_output_loss: 0.6039 - layer2_output_loss: 0.5967 - val_loss: 1.2260 - val_layer1_output_loss: 0.6196 - val_layer2_output_loss: 0.6064\n",
            "Epoch 29/100\n",
            "142/142 [==============================] - 0s 3ms/step - loss: 1.1772 - layer1_output_loss: 0.5978 - layer2_output_loss: 0.5794 - val_loss: 1.1760 - val_layer1_output_loss: 0.6037 - val_layer2_output_loss: 0.5723\n",
            "Epoch 30/100\n",
            "142/142 [==============================] - 0s 3ms/step - loss: 1.1639 - layer1_output_loss: 0.5912 - layer2_output_loss: 0.5726 - val_loss: 1.3891 - val_layer1_output_loss: 0.6428 - val_layer2_output_loss: 0.7463\n",
            "Epoch 31/100\n",
            "142/142 [==============================] - 0s 2ms/step - loss: 1.1899 - layer1_output_loss: 0.5908 - layer2_output_loss: 0.5990 - val_loss: 1.1499 - val_layer1_output_loss: 0.5935 - val_layer2_output_loss: 0.5564\n",
            "Epoch 32/100\n",
            "142/142 [==============================] - 0s 2ms/step - loss: 1.1579 - layer1_output_loss: 0.5895 - layer2_output_loss: 0.5684 - val_loss: 1.1754 - val_layer1_output_loss: 0.5988 - val_layer2_output_loss: 0.5765\n",
            "Epoch 33/100\n",
            "142/142 [==============================] - 0s 3ms/step - loss: 1.1809 - layer1_output_loss: 0.5931 - layer2_output_loss: 0.5878 - val_loss: 1.1329 - val_layer1_output_loss: 0.5847 - val_layer2_output_loss: 0.5482\n",
            "Epoch 34/100\n",
            "142/142 [==============================] - 0s 2ms/step - loss: 1.1653 - layer1_output_loss: 0.5879 - layer2_output_loss: 0.5774 - val_loss: 1.1403 - val_layer1_output_loss: 0.5926 - val_layer2_output_loss: 0.5477\n",
            "Epoch 35/100\n",
            "142/142 [==============================] - 0s 2ms/step - loss: 1.1412 - layer1_output_loss: 0.5799 - layer2_output_loss: 0.5613 - val_loss: 1.1908 - val_layer1_output_loss: 0.6113 - val_layer2_output_loss: 0.5795\n",
            "Epoch 36/100\n",
            "142/142 [==============================] - 0s 2ms/step - loss: 1.1407 - layer1_output_loss: 0.5832 - layer2_output_loss: 0.5574 - val_loss: 1.1549 - val_layer1_output_loss: 0.5893 - val_layer2_output_loss: 0.5656\n",
            "Epoch 37/100\n",
            "142/142 [==============================] - 0s 3ms/step - loss: 1.1524 - layer1_output_loss: 0.5803 - layer2_output_loss: 0.5721 - val_loss: 1.1749 - val_layer1_output_loss: 0.6035 - val_layer2_output_loss: 0.5714\n",
            "Epoch 38/100\n",
            "142/142 [==============================] - 0s 2ms/step - loss: 1.1366 - layer1_output_loss: 0.5733 - layer2_output_loss: 0.5633 - val_loss: 1.1270 - val_layer1_output_loss: 0.5844 - val_layer2_output_loss: 0.5426\n",
            "Epoch 39/100\n",
            "142/142 [==============================] - 0s 3ms/step - loss: 1.1402 - layer1_output_loss: 0.5818 - layer2_output_loss: 0.5584 - val_loss: 1.1844 - val_layer1_output_loss: 0.5959 - val_layer2_output_loss: 0.5885\n",
            "Epoch 40/100\n",
            "142/142 [==============================] - 0s 2ms/step - loss: 1.1267 - layer1_output_loss: 0.5731 - layer2_output_loss: 0.5535 - val_loss: 1.1065 - val_layer1_output_loss: 0.5724 - val_layer2_output_loss: 0.5341\n",
            "Epoch 41/100\n",
            "142/142 [==============================] - 0s 2ms/step - loss: 1.1218 - layer1_output_loss: 0.5726 - layer2_output_loss: 0.5492 - val_loss: 1.1867 - val_layer1_output_loss: 0.5977 - val_layer2_output_loss: 0.5890\n",
            "Epoch 42/100\n",
            "142/142 [==============================] - 0s 2ms/step - loss: 1.1428 - layer1_output_loss: 0.5772 - layer2_output_loss: 0.5657 - val_loss: 1.1593 - val_layer1_output_loss: 0.5934 - val_layer2_output_loss: 0.5659\n",
            "Epoch 43/100\n",
            "142/142 [==============================] - 0s 3ms/step - loss: 1.1224 - layer1_output_loss: 0.5695 - layer2_output_loss: 0.5529 - val_loss: 1.1041 - val_layer1_output_loss: 0.5786 - val_layer2_output_loss: 0.5255\n",
            "Epoch 44/100\n",
            "142/142 [==============================] - 0s 2ms/step - loss: 1.1237 - layer1_output_loss: 0.5717 - layer2_output_loss: 0.5520 - val_loss: 1.1387 - val_layer1_output_loss: 0.6026 - val_layer2_output_loss: 0.5361\n",
            "Epoch 45/100\n",
            "142/142 [==============================] - 0s 2ms/step - loss: 1.1230 - layer1_output_loss: 0.5705 - layer2_output_loss: 0.5525 - val_loss: 1.0935 - val_layer1_output_loss: 0.5671 - val_layer2_output_loss: 0.5264\n",
            "Epoch 46/100\n",
            "142/142 [==============================] - 0s 2ms/step - loss: 1.1138 - layer1_output_loss: 0.5691 - layer2_output_loss: 0.5447 - val_loss: 1.4593 - val_layer1_output_loss: 0.6423 - val_layer2_output_loss: 0.8170\n",
            "Epoch 47/100\n",
            "142/142 [==============================] - 0s 2ms/step - loss: 1.1090 - layer1_output_loss: 0.5650 - layer2_output_loss: 0.5440 - val_loss: 1.1135 - val_layer1_output_loss: 0.5734 - val_layer2_output_loss: 0.5401\n",
            "Epoch 48/100\n",
            "142/142 [==============================] - 0s 2ms/step - loss: 1.1259 - layer1_output_loss: 0.5677 - layer2_output_loss: 0.5582 - val_loss: 1.1717 - val_layer1_output_loss: 0.5950 - val_layer2_output_loss: 0.5768\n",
            "Epoch 49/100\n",
            "142/142 [==============================] - 0s 3ms/step - loss: 1.1314 - layer1_output_loss: 0.5692 - layer2_output_loss: 0.5623 - val_loss: 1.1241 - val_layer1_output_loss: 0.5747 - val_layer2_output_loss: 0.5494\n",
            "Epoch 50/100\n",
            "142/142 [==============================] - 0s 2ms/step - loss: 1.1106 - layer1_output_loss: 0.5635 - layer2_output_loss: 0.5472 - val_loss: 1.2435 - val_layer1_output_loss: 0.6019 - val_layer2_output_loss: 0.6416\n",
            "Epoch 51/100\n",
            "142/142 [==============================] - 0s 2ms/step - loss: 1.1257 - layer1_output_loss: 0.5663 - layer2_output_loss: 0.5594 - val_loss: 1.0598 - val_layer1_output_loss: 0.5533 - val_layer2_output_loss: 0.5065\n",
            "Epoch 52/100\n",
            "142/142 [==============================] - 0s 2ms/step - loss: 1.0961 - layer1_output_loss: 0.5582 - layer2_output_loss: 0.5379 - val_loss: 1.0818 - val_layer1_output_loss: 0.5584 - val_layer2_output_loss: 0.5234\n",
            "Epoch 53/100\n",
            "142/142 [==============================] - 0s 2ms/step - loss: 1.1107 - layer1_output_loss: 0.5652 - layer2_output_loss: 0.5454 - val_loss: 1.1307 - val_layer1_output_loss: 0.5933 - val_layer2_output_loss: 0.5374\n",
            "Epoch 54/100\n",
            "142/142 [==============================] - 0s 2ms/step - loss: 1.1073 - layer1_output_loss: 0.5584 - layer2_output_loss: 0.5489 - val_loss: 1.1265 - val_layer1_output_loss: 0.5695 - val_layer2_output_loss: 0.5570\n",
            "Epoch 55/100\n",
            "142/142 [==============================] - 0s 3ms/step - loss: 1.1181 - layer1_output_loss: 0.5660 - layer2_output_loss: 0.5521 - val_loss: 1.1014 - val_layer1_output_loss: 0.5712 - val_layer2_output_loss: 0.5302\n",
            "Epoch 56/100\n",
            "142/142 [==============================] - 0s 2ms/step - loss: 1.1158 - layer1_output_loss: 0.5610 - layer2_output_loss: 0.5549 - val_loss: 1.2335 - val_layer1_output_loss: 0.6118 - val_layer2_output_loss: 0.6217\n",
            "Epoch 57/100\n",
            "142/142 [==============================] - 0s 2ms/step - loss: 1.0990 - layer1_output_loss: 0.5591 - layer2_output_loss: 0.5399 - val_loss: 1.0938 - val_layer1_output_loss: 0.5651 - val_layer2_output_loss: 0.5287\n",
            "Epoch 58/100\n",
            "142/142 [==============================] - 0s 2ms/step - loss: 1.1000 - layer1_output_loss: 0.5590 - layer2_output_loss: 0.5410 - val_loss: 1.1040 - val_layer1_output_loss: 0.5596 - val_layer2_output_loss: 0.5444\n",
            "Epoch 59/100\n",
            "142/142 [==============================] - 0s 2ms/step - loss: 1.0978 - layer1_output_loss: 0.5546 - layer2_output_loss: 0.5432 - val_loss: 1.1901 - val_layer1_output_loss: 0.6015 - val_layer2_output_loss: 0.5886\n",
            "Epoch 60/100\n",
            "142/142 [==============================] - 0s 2ms/step - loss: 1.0877 - layer1_output_loss: 0.5537 - layer2_output_loss: 0.5339 - val_loss: 1.1971 - val_layer1_output_loss: 0.5801 - val_layer2_output_loss: 0.6170\n",
            "Epoch 61/100\n",
            "142/142 [==============================] - 0s 2ms/step - loss: 1.1151 - layer1_output_loss: 0.5585 - layer2_output_loss: 0.5567 - val_loss: 1.1885 - val_layer1_output_loss: 0.5982 - val_layer2_output_loss: 0.5903\n",
            "Epoch 00061: early stopping\n"
          ]
        },
        {
          "output_type": "execute_result",
          "data": {
            "text/plain": [
              "<keras.callbacks.History at 0x7f7db531ce10>"
            ]
          },
          "metadata": {},
          "execution_count": 37
        }
      ]
    },
    {
      "cell_type": "code",
      "metadata": {
        "id": "f0315394"
      },
      "source": [
        "losses = pd.DataFrame(model.history.history)"
      ],
      "id": "f0315394",
      "execution_count": 38,
      "outputs": []
    },
    {
      "cell_type": "code",
      "metadata": {
        "id": "fe3308da",
        "outputId": "65c60d9d-d252-4696-909f-a68c9871e868",
        "colab": {
          "base_uri": "https://localhost:8080/",
          "height": 285
        }
      },
      "source": [
        "losses.plot()"
      ],
      "id": "fe3308da",
      "execution_count": 39,
      "outputs": [
        {
          "output_type": "execute_result",
          "data": {
            "text/plain": [
              "<matplotlib.axes._subplots.AxesSubplot at 0x7f7da2f18310>"
            ]
          },
          "metadata": {},
          "execution_count": 39
        },
        {
          "output_type": "display_data",
          "data": {
            "image/png": "[encoded data removed]",
            "text/plain": [
              "<Figure size 432x288 with 1 Axes>"
            ]
          },
          "metadata": {}
        }
      ]
    },
    {
      "cell_type": "code",
      "metadata": {
        "id": "e72c9094"
      },
      "source": [
        "test_predictions = model.predict(X_test)"
      ],
      "id": "e72c9094",
      "execution_count": 40,
      "outputs": []
    },
    {
      "cell_type": "code",
      "metadata": {
        "id": "c52f8710",
        "outputId": "8a684e5d-251d-4683-e76d-84f0bc1cb83c",
        "colab": {
          "base_uri": "https://localhost:8080/"
        }
      },
      "source": [
        "test_predictions"
      ],
      "id": "c52f8710",
      "execution_count": 41,
      "outputs": [
        {
          "output_type": "execute_result",
          "data": {
            "text/plain": [
              "[array([[2.4115295],\n",
              "        [2.54674  ],\n",
              "        [6.080369 ],\n",
              "        [2.4879615],\n",
              "        [4.6853185],\n",
              "        [3.3250668],\n",
              "        [3.9465687],\n",
              "        [2.3962126],\n",
              "        [3.7589517],\n",
              "        [5.666752 ],\n",
              "        [2.809093 ],\n",
              "        [2.379494 ],\n",
              "        [2.425483 ],\n",
              "        [3.7251036],\n",
              "        [2.5707207],\n",
              "        [2.4314313],\n",
              "        [4.2765937],\n",
              "        [2.5445132],\n",
              "        [2.9431973],\n",
              "        [2.724552 ],\n",
              "        [3.016126 ],\n",
              "        [3.0452633],\n",
              "        [3.5909286],\n",
              "        [2.8156414],\n",
              "        [2.6559083],\n",
              "        [5.4752727],\n",
              "        [4.41201  ],\n",
              "        [2.9542456],\n",
              "        [3.2407055],\n",
              "        [2.3666646],\n",
              "        [3.8854   ],\n",
              "        [3.0584216],\n",
              "        [2.4100296],\n",
              "        [5.7320952],\n",
              "        [4.8083673],\n",
              "        [2.4621496],\n",
              "        [2.809566 ],\n",
              "        [3.1981654],\n",
              "        [2.3942003],\n",
              "        [2.7173395],\n",
              "        [5.1891847],\n",
              "        [3.048401 ],\n",
              "        [2.6170063],\n",
              "        [2.6877725],\n",
              "        [2.361196 ],\n",
              "        [2.365592 ],\n",
              "        [2.389268 ],\n",
              "        [2.4272366],\n",
              "        [2.3924117],\n",
              "        [2.8651657],\n",
              "        [4.451509 ],\n",
              "        [4.7596197],\n",
              "        [3.5865889],\n",
              "        [5.071505 ],\n",
              "        [2.5157661],\n",
              "        [3.7132728],\n",
              "        [3.491028 ],\n",
              "        [3.2765388],\n",
              "        [3.5152159],\n",
              "        [3.5663106],\n",
              "        [3.173936 ],\n",
              "        [2.7718103],\n",
              "        [3.5058775],\n",
              "        [2.520227 ],\n",
              "        [2.3706563],\n",
              "        [5.664142 ],\n",
              "        [5.367555 ],\n",
              "        [3.4505463],\n",
              "        [2.3654227],\n",
              "        [3.8120437],\n",
              "        [4.3794465],\n",
              "        [2.4501107],\n",
              "        [3.2545655],\n",
              "        [3.1457958],\n",
              "        [4.593545 ],\n",
              "        [2.5872386],\n",
              "        [3.6211267],\n",
              "        [2.8267808],\n",
              "        [3.7949605],\n",
              "        [2.4459958],\n",
              "        [2.631563 ],\n",
              "        [2.3774946],\n",
              "        [2.4552524],\n",
              "        [4.33796  ],\n",
              "        [2.4772635],\n",
              "        [4.7026687],\n",
              "        [2.025116 ],\n",
              "        [2.4507165],\n",
              "        [1.8020924],\n",
              "        [2.3838658],\n",
              "        [2.3840628],\n",
              "        [3.714854 ],\n",
              "        [3.010323 ],\n",
              "        [2.468316 ],\n",
              "        [4.1591096],\n",
              "        [2.7422316],\n",
              "        [3.488783 ],\n",
              "        [3.3798332],\n",
              "        [3.1102948],\n",
              "        [3.321215 ],\n",
              "        [4.1273866],\n",
              "        [3.1518269],\n",
              "        [2.8677235],\n",
              "        [3.2038176],\n",
              "        [4.3189244],\n",
              "        [2.4388947],\n",
              "        [4.251471 ],\n",
              "        [3.5119617],\n",
              "        [3.7460008],\n",
              "        [2.3551292],\n",
              "        [2.3875642],\n",
              "        [3.6372113],\n",
              "        [2.5018773],\n",
              "        [3.3428667],\n",
              "        [4.4675884],\n",
              "        [2.3241909],\n",
              "        [2.2541728],\n",
              "        [2.876816 ],\n",
              "        [2.9657621],\n",
              "        [4.62001  ],\n",
              "        [3.8642755],\n",
              "        [3.8321283],\n",
              "        [2.462726 ],\n",
              "        [2.401471 ],\n",
              "        [5.78068  ],\n",
              "        [2.7984421],\n",
              "        [2.748126 ],\n",
              "        [2.9592464],\n",
              "        [2.7283378],\n",
              "        [2.578205 ],\n",
              "        [3.1821547],\n",
              "        [2.752324 ],\n",
              "        [3.1146412],\n",
              "        [3.8990688],\n",
              "        [5.0256686],\n",
              "        [3.4516938],\n",
              "        [2.5350876],\n",
              "        [3.6739404],\n",
              "        [3.5326033],\n",
              "        [2.6071367],\n",
              "        [2.483053 ],\n",
              "        [4.730115 ],\n",
              "        [3.4264789],\n",
              "        [2.4711869],\n",
              "        [3.2003245],\n",
              "        [3.3092847],\n",
              "        [4.2311387],\n",
              "        [2.3808482],\n",
              "        [2.9651718],\n",
              "        [2.7722466],\n",
              "        [2.4703   ],\n",
              "        [4.9207473],\n",
              "        [2.349178 ],\n",
              "        [3.4660447],\n",
              "        [2.3919764],\n",
              "        [6.412676 ],\n",
              "        [3.3488336],\n",
              "        [2.7779655],\n",
              "        [2.44027  ],\n",
              "        [3.5576591],\n",
              "        [4.0378885],\n",
              "        [3.1822925],\n",
              "        [3.1455932],\n",
              "        [2.42018  ],\n",
              "        [3.2202508],\n",
              "        [3.4343653],\n",
              "        [2.9008956],\n",
              "        [2.5074975],\n",
              "        [2.4064956],\n",
              "        [3.5746784],\n",
              "        [2.599067 ],\n",
              "        [2.901266 ],\n",
              "        [2.4368079],\n",
              "        [2.6435494],\n",
              "        [2.452702 ],\n",
              "        [3.043727 ],\n",
              "        [2.4425368]], dtype=float32), array([[2.3705273],\n",
              "        [2.4680457],\n",
              "        [6.0129104],\n",
              "        [2.419311 ],\n",
              "        [4.6546397],\n",
              "        [3.1868663],\n",
              "        [3.880227 ],\n",
              "        [2.3420157],\n",
              "        [3.6145391],\n",
              "        [5.63204  ],\n",
              "        [2.848971 ],\n",
              "        [2.3376112],\n",
              "        [2.358902 ],\n",
              "        [3.8502378],\n",
              "        [2.5858066],\n",
              "        [2.458406 ],\n",
              "        [4.3406963],\n",
              "        [2.510995 ],\n",
              "        [3.0285883],\n",
              "        [2.589621 ],\n",
              "        [2.9314034],\n",
              "        [2.8948367],\n",
              "        [3.5974965],\n",
              "        [2.7220984],\n",
              "        [2.5652657],\n",
              "        [5.5615616],\n",
              "        [4.73325  ],\n",
              "        [2.9873605],\n",
              "        [3.0028133],\n",
              "        [2.3359618],\n",
              "        [3.9191058],\n",
              "        [3.1364164],\n",
              "        [2.361537 ],\n",
              "        [5.67453  ],\n",
              "        [4.8378067],\n",
              "        [2.4140062],\n",
              "        [2.7715018],\n",
              "        [3.1766367],\n",
              "        [2.5864174],\n",
              "        [2.6396337],\n",
              "        [5.1480207],\n",
              "        [2.9424844],\n",
              "        [2.5846868],\n",
              "        [2.670278 ],\n",
              "        [2.3392742],\n",
              "        [2.324299 ],\n",
              "        [2.3912277],\n",
              "        [2.413241 ],\n",
              "        [2.3197691],\n",
              "        [2.7605603],\n",
              "        [4.479004 ],\n",
              "        [4.7340527],\n",
              "        [3.4433093],\n",
              "        [5.075383 ],\n",
              "        [2.4728355],\n",
              "        [3.8138852],\n",
              "        [3.506917 ],\n",
              "        [3.2886631],\n",
              "        [3.3043509],\n",
              "        [3.6348953],\n",
              "        [3.2346597],\n",
              "        [3.0197697],\n",
              "        [3.6967986],\n",
              "        [2.4393983],\n",
              "        [2.3349783],\n",
              "        [5.587819 ],\n",
              "        [5.356845 ],\n",
              "        [3.2633464],\n",
              "        [2.4081633],\n",
              "        [3.8591936],\n",
              "        [4.4142265],\n",
              "        [2.3857856],\n",
              "        [3.3122215],\n",
              "        [3.1282108],\n",
              "        [4.619121 ],\n",
              "        [2.5490854],\n",
              "        [3.4689598],\n",
              "        [2.7441697],\n",
              "        [3.755157 ],\n",
              "        [2.3933246],\n",
              "        [2.594055 ],\n",
              "        [2.3123283],\n",
              "        [2.4007099],\n",
              "        [4.404062 ],\n",
              "        [2.4873855],\n",
              "        [4.6622534],\n",
              "        [1.9296317],\n",
              "        [2.385561 ],\n",
              "        [1.5483894],\n",
              "        [2.279374 ],\n",
              "        [2.2785118],\n",
              "        [3.6467757],\n",
              "        [2.7656236],\n",
              "        [2.4143527],\n",
              "        [4.2840004],\n",
              "        [2.7306273],\n",
              "        [3.3857665],\n",
              "        [3.1405985],\n",
              "        [3.2288485],\n",
              "        [3.2498832],\n",
              "        [4.0184135],\n",
              "        [3.0595894],\n",
              "        [2.6552525],\n",
              "        [3.0827808],\n",
              "        [4.4276013],\n",
              "        [2.4422283],\n",
              "        [4.325766 ],\n",
              "        [3.590917 ],\n",
              "        [3.7209802],\n",
              "        [2.211753 ],\n",
              "        [2.4650726],\n",
              "        [3.8968546],\n",
              "        [2.5020776],\n",
              "        [3.241956 ],\n",
              "        [4.4889774],\n",
              "        [2.2158647],\n",
              "        [2.0737793],\n",
              "        [2.8139575],\n",
              "        [2.8025458],\n",
              "        [4.5739765],\n",
              "        [3.89923  ],\n",
              "        [3.7191796],\n",
              "        [2.4720387],\n",
              "        [2.3493807],\n",
              "        [5.8267946],\n",
              "        [2.610341 ],\n",
              "        [2.760466 ],\n",
              "        [2.7563262],\n",
              "        [2.8682847],\n",
              "        [2.4655066],\n",
              "        [3.0761218],\n",
              "        [2.7756987],\n",
              "        [2.994104 ],\n",
              "        [3.8799398],\n",
              "        [4.9620295],\n",
              "        [3.350304 ],\n",
              "        [2.4890556],\n",
              "        [3.7482212],\n",
              "        [3.5838752],\n",
              "        [2.4141216],\n",
              "        [2.4415998],\n",
              "        [4.7302065],\n",
              "        [3.1894352],\n",
              "        [2.4181027],\n",
              "        [3.0105548],\n",
              "        [3.2650692],\n",
              "        [4.2930965],\n",
              "        [2.3259084],\n",
              "        [2.7543855],\n",
              "        [2.6976953],\n",
              "        [2.4574587],\n",
              "        [4.902272 ],\n",
              "        [2.3400185],\n",
              "        [3.49479  ],\n",
              "        [2.3534164],\n",
              "        [6.3581553],\n",
              "        [3.165543 ],\n",
              "        [2.8472252],\n",
              "        [2.4092674],\n",
              "        [3.6467092],\n",
              "        [4.0453405],\n",
              "        [3.168299 ],\n",
              "        [3.5432782],\n",
              "        [2.375361 ],\n",
              "        [3.333243 ],\n",
              "        [3.2911773],\n",
              "        [2.9191947],\n",
              "        [2.4264681],\n",
              "        [2.414615 ],\n",
              "        [3.59542  ],\n",
              "        [2.6440365],\n",
              "        [3.0586104],\n",
              "        [2.3946586],\n",
              "        [2.916255 ],\n",
              "        [2.3857336],\n",
              "        [2.902422 ],\n",
              "        [2.4112644]], dtype=float32)]"
            ]
          },
          "metadata": {},
          "execution_count": 41
        }
      ]
    },
    {
      "cell_type": "code",
      "metadata": {
        "id": "ff5bd229"
      },
      "source": [
        "pred_df = pd.DataFrame(y_test,columns=['Test Y'])"
      ],
      "id": "ff5bd229",
      "execution_count": 42,
      "outputs": []
    },
    {
      "cell_type": "code",
      "metadata": {
        "id": "ee4ed9c4",
        "outputId": "b1f58766-cbf7-4fe7-ba04-55596df4429d",
        "colab": {
          "base_uri": "https://localhost:8080/",
          "height": 424
        }
      },
      "source": [
        "pred_df"
      ],
      "id": "ee4ed9c4",
      "execution_count": 43,
      "outputs": [
        {
          "output_type": "execute_result",
          "data": {
            "text/html": [
              "<div>\n",
              "<style scoped>\n",
              "    .dataframe tbody tr th:only-of-type {\n",
              "        vertical-align: middle;\n",
              "    }\n",
              "\n",
              "    .dataframe tbody tr th {\n",
              "        vertical-align: top;\n",
              "    }\n",
              "\n",
              "    .dataframe thead th {\n",
              "        text-align: right;\n",
              "    }\n",
              "</style>\n",
              "<table border=\"1\" class=\"dataframe\">\n",
              "  <thead>\n",
              "    <tr style=\"text-align: right;\">\n",
              "      <th></th>\n",
              "      <th>Test Y</th>\n",
              "    </tr>\n",
              "  </thead>\n",
              "  <tbody>\n",
              "    <tr>\n",
              "      <th>0</th>\n",
              "      <td>2.60</td>\n",
              "    </tr>\n",
              "    <tr>\n",
              "      <th>1</th>\n",
              "      <td>1.97</td>\n",
              "    </tr>\n",
              "    <tr>\n",
              "      <th>2</th>\n",
              "      <td>6.70</td>\n",
              "    </tr>\n",
              "    <tr>\n",
              "      <th>3</th>\n",
              "      <td>2.11</td>\n",
              "    </tr>\n",
              "    <tr>\n",
              "      <th>4</th>\n",
              "      <td>4.23</td>\n",
              "    </tr>\n",
              "    <tr>\n",
              "      <th>...</th>\n",
              "      <td>...</td>\n",
              "    </tr>\n",
              "    <tr>\n",
              "      <th>172</th>\n",
              "      <td>2.80</td>\n",
              "    </tr>\n",
              "    <tr>\n",
              "      <th>173</th>\n",
              "      <td>3.50</td>\n",
              "    </tr>\n",
              "    <tr>\n",
              "      <th>174</th>\n",
              "      <td>1.99</td>\n",
              "    </tr>\n",
              "    <tr>\n",
              "      <th>175</th>\n",
              "      <td>4.00</td>\n",
              "    </tr>\n",
              "    <tr>\n",
              "      <th>176</th>\n",
              "      <td>2.70</td>\n",
              "    </tr>\n",
              "  </tbody>\n",
              "</table>\n",
              "<p>177 rows × 1 columns</p>\n",
              "</div>"
            ],
            "text/plain": [
              "     Test Y\n",
              "0      2.60\n",
              "1      1.97\n",
              "2      6.70\n",
              "3      2.11\n",
              "4      4.23\n",
              "..      ...\n",
              "172    2.80\n",
              "173    3.50\n",
              "174    1.99\n",
              "175    4.00\n",
              "176    2.70\n",
              "\n",
              "[177 rows x 1 columns]"
            ]
          },
          "metadata": {},
          "execution_count": 43
        }
      ]
    },
    {
      "cell_type": "code",
      "metadata": {
        "id": "ff3426b5"
      },
      "source": [
        "test_predictions = pd.Series(test_predictions[0].reshape(177,))"
      ],
      "id": "ff3426b5",
      "execution_count": 44,
      "outputs": []
    },
    {
      "cell_type": "code",
      "metadata": {
        "id": "8fccfb21"
      },
      "source": [
        "pred_df = pd.concat([pred_df,test_predictions],axis=1)"
      ],
      "id": "8fccfb21",
      "execution_count": 45,
      "outputs": []
    },
    {
      "cell_type": "code",
      "metadata": {
        "id": "551965fe"
      },
      "source": [
        "pred_df.columns = ['Test Y','Model Predictions']"
      ],
      "id": "551965fe",
      "execution_count": 46,
      "outputs": []
    },
    {
      "cell_type": "code",
      "metadata": {
        "id": "6d55facd",
        "outputId": "2d18a2eb-768f-460a-ca24-7573c75e3107",
        "colab": {
          "base_uri": "https://localhost:8080/",
          "height": 424
        }
      },
      "source": [
        "pred_df"
      ],
      "id": "6d55facd",
      "execution_count": 47,
      "outputs": [
        {
          "output_type": "execute_result",
          "data": {
            "text/html": [
              "<div>\n",
              "<style scoped>\n",
              "    .dataframe tbody tr th:only-of-type {\n",
              "        vertical-align: middle;\n",
              "    }\n",
              "\n",
              "    .dataframe tbody tr th {\n",
              "        vertical-align: top;\n",
              "    }\n",
              "\n",
              "    .dataframe thead th {\n",
              "        text-align: right;\n",
              "    }\n",
              "</style>\n",
              "<table border=\"1\" class=\"dataframe\">\n",
              "  <thead>\n",
              "    <tr style=\"text-align: right;\">\n",
              "      <th></th>\n",
              "      <th>Test Y</th>\n",
              "      <th>Model Predictions</th>\n",
              "    </tr>\n",
              "  </thead>\n",
              "  <tbody>\n",
              "    <tr>\n",
              "      <th>0</th>\n",
              "      <td>2.60</td>\n",
              "      <td>2.411530</td>\n",
              "    </tr>\n",
              "    <tr>\n",
              "      <th>1</th>\n",
              "      <td>1.97</td>\n",
              "      <td>2.546740</td>\n",
              "    </tr>\n",
              "    <tr>\n",
              "      <th>2</th>\n",
              "      <td>6.70</td>\n",
              "      <td>6.080369</td>\n",
              "    </tr>\n",
              "    <tr>\n",
              "      <th>3</th>\n",
              "      <td>2.11</td>\n",
              "      <td>2.487962</td>\n",
              "    </tr>\n",
              "    <tr>\n",
              "      <th>4</th>\n",
              "      <td>4.23</td>\n",
              "      <td>4.685318</td>\n",
              "    </tr>\n",
              "    <tr>\n",
              "      <th>...</th>\n",
              "      <td>...</td>\n",
              "      <td>...</td>\n",
              "    </tr>\n",
              "    <tr>\n",
              "      <th>172</th>\n",
              "      <td>2.80</td>\n",
              "      <td>2.436808</td>\n",
              "    </tr>\n",
              "    <tr>\n",
              "      <th>173</th>\n",
              "      <td>3.50</td>\n",
              "      <td>2.643549</td>\n",
              "    </tr>\n",
              "    <tr>\n",
              "      <th>174</th>\n",
              "      <td>1.99</td>\n",
              "      <td>2.452702</td>\n",
              "    </tr>\n",
              "    <tr>\n",
              "      <th>175</th>\n",
              "      <td>4.00</td>\n",
              "      <td>3.043727</td>\n",
              "    </tr>\n",
              "    <tr>\n",
              "      <th>176</th>\n",
              "      <td>2.70</td>\n",
              "      <td>2.442537</td>\n",
              "    </tr>\n",
              "  </tbody>\n",
              "</table>\n",
              "<p>177 rows × 2 columns</p>\n",
              "</div>"
            ],
            "text/plain": [
              "     Test Y  Model Predictions\n",
              "0      2.60           2.411530\n",
              "1      1.97           2.546740\n",
              "2      6.70           6.080369\n",
              "3      2.11           2.487962\n",
              "4      4.23           4.685318\n",
              "..      ...                ...\n",
              "172    2.80           2.436808\n",
              "173    3.50           2.643549\n",
              "174    1.99           2.452702\n",
              "175    4.00           3.043727\n",
              "176    2.70           2.442537\n",
              "\n",
              "[177 rows x 2 columns]"
            ]
          },
          "metadata": {},
          "execution_count": 47
        }
      ]
    },
    {
      "cell_type": "code",
      "metadata": {
        "id": "ccec5378",
        "outputId": "b7f43988-e3f2-4707-fc4b-c3b5cbb92625",
        "colab": {
          "base_uri": "https://localhost:8080/",
          "height": 302
        }
      },
      "source": [
        "sns.scatterplot(x='Test Y',y='Model Predictions',data=pred_df)"
      ],
      "id": "ccec5378",
      "execution_count": 48,
      "outputs": [
        {
          "output_type": "execute_result",
          "data": {
            "text/plain": [
              "<matplotlib.axes._subplots.AxesSubplot at 0x7f7da751f990>"
            ]
          },
          "metadata": {},
          "execution_count": 48
        },
        {
          "output_type": "display_data",
          "data": {
            "image/png": "[encoded data removed]",
            "text/plain": [
              "<Figure size 432x288 with 1 Axes>"
            ]
          },
          "metadata": {}
        }
      ]
    },
    {
      "cell_type": "code",
      "metadata": {
        "id": "0d12fef5"
      },
      "source": [
        "pred_df['Error'] = pred_df['Test Y'] - pred_df['Model Predictions']"
      ],
      "id": "0d12fef5",
      "execution_count": 49,
      "outputs": []
    },
    {
      "cell_type": "code",
      "metadata": {
        "id": "c8e5f802",
        "outputId": "43fcb297-8a9c-4d90-8100-9a4c863191aa",
        "colab": {
          "base_uri": "https://localhost:8080/",
          "height": 357
        }
      },
      "source": [
        "sns.distplot(pred_df['Error'],bins=50)"
      ],
      "id": "c8e5f802",
      "execution_count": 50,
      "outputs": [
        {
          "output_type": "stream",
          "name": "stderr",
          "text": [
            "/usr/local/lib/python3.7/dist-packages/seaborn/distributions.py:2619: FutureWarning: `distplot` is a deprecated function and will be removed in a future version. Please adapt your code to use either `displot` (a figure-level function with similar flexibility) or `histplot` (an axes-level function for histograms).\n",
            "  warnings.warn(msg, FutureWarning)\n"
          ]
        },
        {
          "output_type": "execute_result",
          "data": {
            "text/plain": [
              "<matplotlib.axes._subplots.AxesSubplot at 0x7f7da75756d0>"
            ]
          },
          "metadata": {},
          "execution_count": 50
        },
        {
          "output_type": "display_data",
          "data": {
            "image/png": "[encoded data removed]",
            "text/plain": [
              "<Figure size 432x288 with 1 Axes>"
            ]
          },
          "metadata": {}
        }
      ]
    },
    {
      "cell_type": "markdown",
      "metadata": {
        "id": "74b510f0"
      },
      "source": [
        "# Mean Absolute Error"
      ],
      "id": "74b510f0"
    },
    {
      "cell_type": "code",
      "metadata": {
        "id": "9d8fb3e4",
        "outputId": "b4d2e225-3fac-48d0-c84c-d04fa0ead2ee",
        "colab": {
          "base_uri": "https://localhost:8080/"
        }
      },
      "source": [
        "from sklearn.metrics import mean_absolute_error,mean_squared_error\n",
        "mean_absolute_error(pred_df['Test Y'],pred_df['Model Predictions'])"
      ],
      "id": "9d8fb3e4",
      "execution_count": 51,
      "outputs": [
        {
          "output_type": "execute_result",
          "data": {
            "text/plain": [
              "0.6015757631582056"
            ]
          },
          "metadata": {},
          "execution_count": 51
        }
      ]
    },
    {
      "cell_type": "markdown",
      "metadata": {
        "id": "94e60793"
      },
      "source": [
        "# Mean Squared Error"
      ],
      "id": "94e60793"
    },
    {
      "cell_type": "code",
      "metadata": {
        "id": "cb6dbde2",
        "outputId": "10be217e-b781-497f-81b0-2747428c0dce",
        "colab": {
          "base_uri": "https://localhost:8080/"
        }
      },
      "source": [
        "mean_squared_error(pred_df['Test Y'],pred_df['Model Predictions'])"
      ],
      "id": "cb6dbde2",
      "execution_count": 52,
      "outputs": [
        {
          "output_type": "execute_result",
          "data": {
            "text/plain": [
              "0.5982021082091223"
            ]
          },
          "metadata": {},
          "execution_count": 52
        }
      ]
    },
    {
      "cell_type": "markdown",
      "metadata": {
        "id": "a17f8775"
      },
      "source": [
        "# Predicting on brand new data"
      ],
      "id": "a17f8775"
    },
    {
      "cell_type": "code",
      "metadata": {
        "id": "76fe202d"
      },
      "source": [
        "new_data = [[29.2,12.2,67.6,5.7,6.0]]"
      ],
      "id": "76fe202d",
      "execution_count": 53,
      "outputs": []
    },
    {
      "cell_type": "code",
      "metadata": {
        "id": "3214aeac",
        "outputId": "580c436c-3c0e-45c4-d964-ffde24ef26e9",
        "colab": {
          "base_uri": "https://localhost:8080/"
        }
      },
      "source": [
        "# Don't forget to scale!\n",
        "scaler.transform(new_data)"
      ],
      "id": "3214aeac",
      "execution_count": 54,
      "outputs": [
        {
          "output_type": "execute_result",
          "data": {
            "text/plain": [
              "array([[ 0.28947368, -0.18421053,  0.65950226,  0.01716867,  0.4       ]])"
            ]
          },
          "metadata": {},
          "execution_count": 54
        }
      ]
    },
    {
      "cell_type": "code",
      "metadata": {
        "id": "b76bb0f7"
      },
      "source": [
        "new_data = scaler.transform(new_data)"
      ],
      "id": "b76bb0f7",
      "execution_count": 55,
      "outputs": []
    },
    {
      "cell_type": "code",
      "metadata": {
        "id": "3c92bb40",
        "outputId": "cb5dab01-e87c-4a79-82ca-5d8009b79aef",
        "colab": {
          "base_uri": "https://localhost:8080/"
        }
      },
      "source": [
        "model.predict(new_data)"
      ],
      "id": "3c92bb40",
      "execution_count": 56,
      "outputs": [
        {
          "output_type": "execute_result",
          "data": {
            "text/plain": [
              "[array([[2.624919]], dtype=float32), array([[2.6729567]], dtype=float32)]"
            ]
          },
          "metadata": {},
          "execution_count": 56
        }
      ]
    }
  ]
}